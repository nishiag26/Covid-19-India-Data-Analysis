{
 "cells": [
  {
   "cell_type": "code",
   "execution_count": 9,
   "metadata": {},
   "outputs": [],
   "source": [
    "import pandas as pd\n",
    "import numpy as np\n",
    "import requests,json\n",
    "import matplotlib.pyplot as plt\n",
    "import seaborn as sns\n",
    "%matplotlib inline\n",
    "from pandas.io.json import json_normalize"
   ]
  },
  {
   "cell_type": "code",
   "execution_count": 10,
   "metadata": {},
   "outputs": [],
   "source": [
    "covid_data={}\n",
    "URL='https://api.covid19india.org/'\n",
    "\n",
    "for i in range(1,8):\n",
    "    path=URL+'raw_data{}.json'.format(i)\n",
    "    filename='CovidData_{}.json'.format(i)\n",
    "    patient_data = requests.get(path)\n",
    "    patdata_json = patient_data.json()\n",
    "    patdata_json = patdata_json['raw_data']\n",
    "    patdata_serial=json.dumps(patdata_json,indent=4)\n",
    "    with open(filename,'w') as outf:\n",
    "        outf.write(patdata_serial)"
   ]
  },
  {
   "cell_type": "code",
   "execution_count": 11,
   "metadata": {},
   "outputs": [],
   "source": [
    "df1=pd.read_json('CovidData_1.json')\n",
    "df2=pd.read_json('CovidData_2.json')\n",
    "df3=pd.read_json('CovidData_3.json')\n",
    "df4=pd.read_json('CovidData_4.json')\n",
    "df5=pd.read_json('CovidData_5.json')\n",
    "df6=pd.read_json('CovidData_6.json')\n",
    "df7=pd.read_json('CovidData_7.json')"
   ]
  },
  {
   "cell_type": "code",
   "execution_count": 13,
   "metadata": {},
   "outputs": [],
   "source": [
    "frame = [df1,df2,df3,df4,df5,df6,df7]"
   ]
  },
  {
   "cell_type": "code",
   "execution_count": 14,
   "metadata": {},
   "outputs": [
    {
     "name": "stderr",
     "output_type": "stream",
     "text": [
      "C:\\Users\\hp1\\Anaconda3\\lib\\site-packages\\ipykernel_launcher.py:1: FutureWarning: Sorting because non-concatenation axis is not aligned. A future version\n",
      "of pandas will change to not sort by default.\n",
      "\n",
      "To accept the future behavior, pass 'sort=False'.\n",
      "\n",
      "To retain the current behavior and silence the warning, pass 'sort=True'.\n",
      "\n",
      "  \"\"\"Entry point for launching an IPython kernel.\n"
     ]
    }
   ],
   "source": [
    "total_cases = pd.concat(frame)"
   ]
  },
  {
   "cell_type": "code",
   "execution_count": 15,
   "metadata": {},
   "outputs": [
    {
     "data": {
      "text/html": [
       "<div>\n",
       "<style scoped>\n",
       "    .dataframe tbody tr th:only-of-type {\n",
       "        vertical-align: middle;\n",
       "    }\n",
       "\n",
       "    .dataframe tbody tr th {\n",
       "        vertical-align: top;\n",
       "    }\n",
       "\n",
       "    .dataframe thead th {\n",
       "        text-align: right;\n",
       "    }\n",
       "</style>\n",
       "<table border=\"1\" class=\"dataframe\">\n",
       "  <thead>\n",
       "    <tr style=\"text-align: right;\">\n",
       "      <th></th>\n",
       "      <th>agebracket</th>\n",
       "      <th>backupnotes</th>\n",
       "      <th>contractedfromwhichpatientsuspected</th>\n",
       "      <th>currentstatus</th>\n",
       "      <th>dateannounced</th>\n",
       "      <th>detectedcity</th>\n",
       "      <th>detecteddistrict</th>\n",
       "      <th>detectedstate</th>\n",
       "      <th>entryid</th>\n",
       "      <th>estimatedonsetdate</th>\n",
       "      <th>...</th>\n",
       "      <th>notes</th>\n",
       "      <th>numcases</th>\n",
       "      <th>patientnumber</th>\n",
       "      <th>source1</th>\n",
       "      <th>source2</th>\n",
       "      <th>source3</th>\n",
       "      <th>statecode</th>\n",
       "      <th>statepatientnumber</th>\n",
       "      <th>statuschangedate</th>\n",
       "      <th>typeoftransmission</th>\n",
       "    </tr>\n",
       "  </thead>\n",
       "  <tbody>\n",
       "    <tr>\n",
       "      <td>16223</td>\n",
       "      <td></td>\n",
       "      <td></td>\n",
       "      <td></td>\n",
       "      <td>Hospitalized</td>\n",
       "      <td>19/04/2020</td>\n",
       "      <td></td>\n",
       "      <td>Tenkasi</td>\n",
       "      <td>Tamil Nadu</td>\n",
       "      <td>NaN</td>\n",
       "      <td></td>\n",
       "      <td>...</td>\n",
       "      <td>Details awaited</td>\n",
       "      <td>1</td>\n",
       "      <td>16223</td>\n",
       "      <td>https://stopcorona.tn.gov.in/wp-content/upload...</td>\n",
       "      <td></td>\n",
       "      <td></td>\n",
       "      <td>TN</td>\n",
       "      <td>TN-P1448</td>\n",
       "      <td>19/04/2020</td>\n",
       "      <td></td>\n",
       "    </tr>\n",
       "    <tr>\n",
       "      <td>14675</td>\n",
       "      <td></td>\n",
       "      <td>NaN</td>\n",
       "      <td></td>\n",
       "      <td>Hospitalized</td>\n",
       "      <td>31/05/2020</td>\n",
       "      <td>Nathnagar</td>\n",
       "      <td>Bhagalpur</td>\n",
       "      <td>Bihar</td>\n",
       "      <td>42896</td>\n",
       "      <td>NaN</td>\n",
       "      <td>...</td>\n",
       "      <td></td>\n",
       "      <td>1</td>\n",
       "      <td>71832</td>\n",
       "      <td>https://twitter.com/BiharHealthDept/status/126...</td>\n",
       "      <td></td>\n",
       "      <td></td>\n",
       "      <td>BR</td>\n",
       "      <td></td>\n",
       "      <td></td>\n",
       "      <td></td>\n",
       "    </tr>\n",
       "    <tr>\n",
       "      <td>3452</td>\n",
       "      <td></td>\n",
       "      <td>NaN</td>\n",
       "      <td></td>\n",
       "      <td>Hospitalized</td>\n",
       "      <td>03/05/2020</td>\n",
       "      <td></td>\n",
       "      <td>Gurdaspur</td>\n",
       "      <td>Punjab</td>\n",
       "      <td>3452</td>\n",
       "      <td>NaN</td>\n",
       "      <td>...</td>\n",
       "      <td></td>\n",
       "      <td>25</td>\n",
       "      <td>31343</td>\n",
       "      <td>https://twitter.com/kbssidhu1961/status/125693...</td>\n",
       "      <td></td>\n",
       "      <td></td>\n",
       "      <td>PB</td>\n",
       "      <td></td>\n",
       "      <td></td>\n",
       "      <td></td>\n",
       "    </tr>\n",
       "    <tr>\n",
       "      <td>5592</td>\n",
       "      <td></td>\n",
       "      <td>NaN</td>\n",
       "      <td></td>\n",
       "      <td>Hospitalized</td>\n",
       "      <td>14/05/2020</td>\n",
       "      <td></td>\n",
       "      <td>Barmer</td>\n",
       "      <td>Rajasthan</td>\n",
       "      <td>15601</td>\n",
       "      <td>NaN</td>\n",
       "      <td>...</td>\n",
       "      <td></td>\n",
       "      <td>8</td>\n",
       "      <td>44540</td>\n",
       "      <td>https://t.me/indiacovid/4771</td>\n",
       "      <td></td>\n",
       "      <td></td>\n",
       "      <td>RJ</td>\n",
       "      <td></td>\n",
       "      <td></td>\n",
       "      <td></td>\n",
       "    </tr>\n",
       "    <tr>\n",
       "      <td>12781</td>\n",
       "      <td>12</td>\n",
       "      <td>NaN</td>\n",
       "      <td></td>\n",
       "      <td>Hospitalized</td>\n",
       "      <td>13/06/2020</td>\n",
       "      <td></td>\n",
       "      <td>Davanagere</td>\n",
       "      <td>Karnataka</td>\n",
       "      <td>61412</td>\n",
       "      <td>NaN</td>\n",
       "      <td>...</td>\n",
       "      <td>Contact of P- 6040</td>\n",
       "      <td>1</td>\n",
       "      <td>90782</td>\n",
       "      <td>https://twitter.com/DHFWKA/status/127178463803...</td>\n",
       "      <td></td>\n",
       "      <td></td>\n",
       "      <td>KA</td>\n",
       "      <td>KA-P6577</td>\n",
       "      <td></td>\n",
       "      <td></td>\n",
       "    </tr>\n",
       "  </tbody>\n",
       "</table>\n",
       "<p>5 rows × 22 columns</p>\n",
       "</div>"
      ],
      "text/plain": [
       "      agebracket backupnotes contractedfromwhichpatientsuspected  \\\n",
       "16223                                                              \n",
       "14675                    NaN                                       \n",
       "3452                     NaN                                       \n",
       "5592                     NaN                                       \n",
       "12781         12         NaN                                       \n",
       "\n",
       "      currentstatus dateannounced detectedcity detecteddistrict detectedstate  \\\n",
       "16223  Hospitalized    19/04/2020                       Tenkasi    Tamil Nadu   \n",
       "14675  Hospitalized    31/05/2020    Nathnagar        Bhagalpur         Bihar   \n",
       "3452   Hospitalized    03/05/2020                     Gurdaspur        Punjab   \n",
       "5592   Hospitalized    14/05/2020                        Barmer     Rajasthan   \n",
       "12781  Hospitalized    13/06/2020                    Davanagere     Karnataka   \n",
       "\n",
       "      entryid estimatedonsetdate  ...               notes numcases  \\\n",
       "16223     NaN                     ...     Details awaited        1   \n",
       "14675   42896                NaN  ...                            1   \n",
       "3452     3452                NaN  ...                           25   \n",
       "5592    15601                NaN  ...                            8   \n",
       "12781   61412                NaN  ...  Contact of P- 6040        1   \n",
       "\n",
       "      patientnumber                                            source1  \\\n",
       "16223         16223  https://stopcorona.tn.gov.in/wp-content/upload...   \n",
       "14675         71832  https://twitter.com/BiharHealthDept/status/126...   \n",
       "3452          31343  https://twitter.com/kbssidhu1961/status/125693...   \n",
       "5592          44540                       https://t.me/indiacovid/4771   \n",
       "12781         90782  https://twitter.com/DHFWKA/status/127178463803...   \n",
       "\n",
       "      source2 source3 statecode statepatientnumber statuschangedate  \\\n",
       "16223                        TN           TN-P1448       19/04/2020   \n",
       "14675                        BR                                       \n",
       "3452                         PB                                       \n",
       "5592                         RJ                                       \n",
       "12781                        KA           KA-P6577                    \n",
       "\n",
       "      typeoftransmission  \n",
       "16223                     \n",
       "14675                     \n",
       "3452                      \n",
       "5592                      \n",
       "12781                     \n",
       "\n",
       "[5 rows x 22 columns]"
      ]
     },
     "execution_count": 15,
     "metadata": {},
     "output_type": "execute_result"
    }
   ],
   "source": [
    "total_cases.sample(5)"
   ]
  },
  {
   "cell_type": "code",
   "execution_count": 16,
   "metadata": {},
   "outputs": [
    {
     "data": {
      "text/plain": [
       "(108648, 22)"
      ]
     },
     "execution_count": 16,
     "metadata": {},
     "output_type": "execute_result"
    }
   ],
   "source": [
    "total_cases.shape"
   ]
  },
  {
   "cell_type": "code",
   "execution_count": 17,
   "metadata": {},
   "outputs": [
    {
     "name": "stdout",
     "output_type": "stream",
     "text": [
      "<class 'pandas.core.frame.DataFrame'>\n",
      "Int64Index: 108648 entries, 0 to 8363\n",
      "Data columns (total 22 columns):\n",
      "agebracket                             108648 non-null object\n",
      "backupnotes                            28183 non-null object\n",
      "contractedfromwhichpatientsuspected    108648 non-null object\n",
      "currentstatus                          108648 non-null object\n",
      "dateannounced                          108648 non-null object\n",
      "detectedcity                           108648 non-null object\n",
      "detecteddistrict                       108648 non-null object\n",
      "detectedstate                          108648 non-null object\n",
      "entryid                                80465 non-null object\n",
      "estimatedonsetdate                     28183 non-null object\n",
      "gender                                 108648 non-null object\n",
      "nationality                            108648 non-null object\n",
      "notes                                  108648 non-null object\n",
      "numcases                               108648 non-null object\n",
      "patientnumber                          108648 non-null object\n",
      "source1                                108648 non-null object\n",
      "source2                                108648 non-null object\n",
      "source3                                108648 non-null object\n",
      "statecode                              108648 non-null object\n",
      "statepatientnumber                     108648 non-null object\n",
      "statuschangedate                       108648 non-null object\n",
      "typeoftransmission                     108648 non-null object\n",
      "dtypes: object(22)\n",
      "memory usage: 19.1+ MB\n"
     ]
    }
   ],
   "source": [
    "total_cases.info()"
   ]
  },
  {
   "cell_type": "code",
   "execution_count": 18,
   "metadata": {},
   "outputs": [],
   "source": [
    "total_cases.replace(\"\",np.NaN,inplace=True)"
   ]
  },
  {
   "cell_type": "code",
   "execution_count": 19,
   "metadata": {},
   "outputs": [
    {
     "data": {
      "text/plain": [
       "(108648, 22)"
      ]
     },
     "execution_count": 19,
     "metadata": {},
     "output_type": "execute_result"
    }
   ],
   "source": [
    "total_cases.shape"
   ]
  },
  {
   "cell_type": "code",
   "execution_count": 20,
   "metadata": {},
   "outputs": [
    {
     "data": {
      "text/plain": [
       "agebracket                              67885\n",
       "backupnotes                            108287\n",
       "contractedfromwhichpatientsuspected    106725\n",
       "currentstatus                             101\n",
       "dateannounced                              67\n",
       "detectedcity                            99927\n",
       "detecteddistrict                         8087\n",
       "detectedstate                             108\n",
       "entryid                                 28218\n",
       "estimatedonsetdate                     108648\n",
       "gender                                  65163\n",
       "nationality                            105939\n",
       "notes                                   68103\n",
       "numcases                                  102\n",
       "patientnumber                             491\n",
       "source1                                  1947\n",
       "source2                                103555\n",
       "source3                                108153\n",
       "statecode                                 108\n",
       "statepatientnumber                      82577\n",
       "statuschangedate                        80868\n",
       "typeoftransmission                     105658\n",
       "dtype: int64"
      ]
     },
     "execution_count": 20,
     "metadata": {},
     "output_type": "execute_result"
    }
   ],
   "source": [
    "total_cases.isna().sum()"
   ]
  },
  {
   "cell_type": "code",
   "execution_count": 21,
   "metadata": {},
   "outputs": [],
   "source": [
    "missing_percent = total_cases.isnull().sum()*100/len(total_cases)\n",
    "missing_df = pd.DataFrame({'columns':total_cases.columns,'missing_percent':missing_percent})\n"
   ]
  },
  {
   "cell_type": "code",
   "execution_count": 22,
   "metadata": {},
   "outputs": [
    {
     "data": {
      "text/html": [
       "<div>\n",
       "<style scoped>\n",
       "    .dataframe tbody tr th:only-of-type {\n",
       "        vertical-align: middle;\n",
       "    }\n",
       "\n",
       "    .dataframe tbody tr th {\n",
       "        vertical-align: top;\n",
       "    }\n",
       "\n",
       "    .dataframe thead th {\n",
       "        text-align: right;\n",
       "    }\n",
       "</style>\n",
       "<table border=\"1\" class=\"dataframe\">\n",
       "  <thead>\n",
       "    <tr style=\"text-align: right;\">\n",
       "      <th></th>\n",
       "      <th>columns</th>\n",
       "      <th>missing_percent</th>\n",
       "    </tr>\n",
       "  </thead>\n",
       "  <tbody>\n",
       "    <tr>\n",
       "      <td>agebracket</td>\n",
       "      <td>agebracket</td>\n",
       "      <td>62.481592</td>\n",
       "    </tr>\n",
       "    <tr>\n",
       "      <td>backupnotes</td>\n",
       "      <td>backupnotes</td>\n",
       "      <td>99.667734</td>\n",
       "    </tr>\n",
       "    <tr>\n",
       "      <td>contractedfromwhichpatientsuspected</td>\n",
       "      <td>contractedfromwhichpatientsuspected</td>\n",
       "      <td>98.230064</td>\n",
       "    </tr>\n",
       "    <tr>\n",
       "      <td>currentstatus</td>\n",
       "      <td>currentstatus</td>\n",
       "      <td>0.092961</td>\n",
       "    </tr>\n",
       "    <tr>\n",
       "      <td>dateannounced</td>\n",
       "      <td>dateannounced</td>\n",
       "      <td>0.061667</td>\n",
       "    </tr>\n",
       "    <tr>\n",
       "      <td>detectedcity</td>\n",
       "      <td>detectedcity</td>\n",
       "      <td>91.973161</td>\n",
       "    </tr>\n",
       "    <tr>\n",
       "      <td>detecteddistrict</td>\n",
       "      <td>detecteddistrict</td>\n",
       "      <td>7.443303</td>\n",
       "    </tr>\n",
       "    <tr>\n",
       "      <td>detectedstate</td>\n",
       "      <td>detectedstate</td>\n",
       "      <td>0.099404</td>\n",
       "    </tr>\n",
       "    <tr>\n",
       "      <td>entryid</td>\n",
       "      <td>entryid</td>\n",
       "      <td>25.971946</td>\n",
       "    </tr>\n",
       "    <tr>\n",
       "      <td>estimatedonsetdate</td>\n",
       "      <td>estimatedonsetdate</td>\n",
       "      <td>100.000000</td>\n",
       "    </tr>\n",
       "    <tr>\n",
       "      <td>gender</td>\n",
       "      <td>gender</td>\n",
       "      <td>59.976254</td>\n",
       "    </tr>\n",
       "    <tr>\n",
       "      <td>nationality</td>\n",
       "      <td>nationality</td>\n",
       "      <td>97.506627</td>\n",
       "    </tr>\n",
       "    <tr>\n",
       "      <td>notes</td>\n",
       "      <td>notes</td>\n",
       "      <td>62.682240</td>\n",
       "    </tr>\n",
       "    <tr>\n",
       "      <td>numcases</td>\n",
       "      <td>numcases</td>\n",
       "      <td>0.093881</td>\n",
       "    </tr>\n",
       "    <tr>\n",
       "      <td>patientnumber</td>\n",
       "      <td>patientnumber</td>\n",
       "      <td>0.451918</td>\n",
       "    </tr>\n",
       "    <tr>\n",
       "      <td>source1</td>\n",
       "      <td>source1</td>\n",
       "      <td>1.792026</td>\n",
       "    </tr>\n",
       "    <tr>\n",
       "      <td>source2</td>\n",
       "      <td>source2</td>\n",
       "      <td>95.312385</td>\n",
       "    </tr>\n",
       "    <tr>\n",
       "      <td>source3</td>\n",
       "      <td>source3</td>\n",
       "      <td>99.544400</td>\n",
       "    </tr>\n",
       "    <tr>\n",
       "      <td>statecode</td>\n",
       "      <td>statecode</td>\n",
       "      <td>0.099404</td>\n",
       "    </tr>\n",
       "    <tr>\n",
       "      <td>statepatientnumber</td>\n",
       "      <td>statepatientnumber</td>\n",
       "      <td>76.004160</td>\n",
       "    </tr>\n",
       "    <tr>\n",
       "      <td>statuschangedate</td>\n",
       "      <td>statuschangedate</td>\n",
       "      <td>74.431191</td>\n",
       "    </tr>\n",
       "    <tr>\n",
       "      <td>typeoftransmission</td>\n",
       "      <td>typeoftransmission</td>\n",
       "      <td>97.247994</td>\n",
       "    </tr>\n",
       "  </tbody>\n",
       "</table>\n",
       "</div>"
      ],
      "text/plain": [
       "                                                                 columns  \\\n",
       "agebracket                                                    agebracket   \n",
       "backupnotes                                                  backupnotes   \n",
       "contractedfromwhichpatientsuspected  contractedfromwhichpatientsuspected   \n",
       "currentstatus                                              currentstatus   \n",
       "dateannounced                                              dateannounced   \n",
       "detectedcity                                                detectedcity   \n",
       "detecteddistrict                                        detecteddistrict   \n",
       "detectedstate                                              detectedstate   \n",
       "entryid                                                          entryid   \n",
       "estimatedonsetdate                                    estimatedonsetdate   \n",
       "gender                                                            gender   \n",
       "nationality                                                  nationality   \n",
       "notes                                                              notes   \n",
       "numcases                                                        numcases   \n",
       "patientnumber                                              patientnumber   \n",
       "source1                                                          source1   \n",
       "source2                                                          source2   \n",
       "source3                                                          source3   \n",
       "statecode                                                      statecode   \n",
       "statepatientnumber                                    statepatientnumber   \n",
       "statuschangedate                                        statuschangedate   \n",
       "typeoftransmission                                    typeoftransmission   \n",
       "\n",
       "                                     missing_percent  \n",
       "agebracket                                 62.481592  \n",
       "backupnotes                                99.667734  \n",
       "contractedfromwhichpatientsuspected        98.230064  \n",
       "currentstatus                               0.092961  \n",
       "dateannounced                               0.061667  \n",
       "detectedcity                               91.973161  \n",
       "detecteddistrict                            7.443303  \n",
       "detectedstate                               0.099404  \n",
       "entryid                                    25.971946  \n",
       "estimatedonsetdate                        100.000000  \n",
       "gender                                     59.976254  \n",
       "nationality                                97.506627  \n",
       "notes                                      62.682240  \n",
       "numcases                                    0.093881  \n",
       "patientnumber                               0.451918  \n",
       "source1                                     1.792026  \n",
       "source2                                    95.312385  \n",
       "source3                                    99.544400  \n",
       "statecode                                   0.099404  \n",
       "statepatientnumber                         76.004160  \n",
       "statuschangedate                           74.431191  \n",
       "typeoftransmission                         97.247994  "
      ]
     },
     "execution_count": 22,
     "metadata": {},
     "output_type": "execute_result"
    }
   ],
   "source": [
    "missing_df"
   ]
  },
  {
   "cell_type": "code",
   "execution_count": 24,
   "metadata": {},
   "outputs": [],
   "source": [
    "#ax=sns.heatmap(total_cases.corr(),annot=True,fmt='.2f',cmap='rocket_r');\n",
    "#bottom, top = ax.get_ylim()\n",
    "#ax.set_ylim(bottom + 0.5, top - 0.5);"
   ]
  },
  {
   "cell_type": "code",
   "execution_count": 25,
   "metadata": {},
   "outputs": [],
   "source": [
    "total_cases.drop(['backupnotes','contractedfromwhichpatientsuspected','detectedcity','source2','source3','statecode','notes','estimatedonsetdate'],axis=1,inplace=True)"
   ]
  },
  {
   "cell_type": "code",
   "execution_count": 26,
   "metadata": {},
   "outputs": [
    {
     "name": "stdout",
     "output_type": "stream",
     "text": [
      "<class 'pandas.core.frame.DataFrame'>\n",
      "Int64Index: 108648 entries, 0 to 8363\n",
      "Data columns (total 14 columns):\n",
      "agebracket            40763 non-null object\n",
      "currentstatus         108547 non-null object\n",
      "dateannounced         108581 non-null object\n",
      "detecteddistrict      100561 non-null object\n",
      "detectedstate         108540 non-null object\n",
      "entryid               80430 non-null object\n",
      "gender                43485 non-null object\n",
      "nationality           2709 non-null object\n",
      "numcases              108546 non-null object\n",
      "patientnumber         108157 non-null object\n",
      "source1               106701 non-null object\n",
      "statepatientnumber    26071 non-null object\n",
      "statuschangedate      27780 non-null object\n",
      "typeoftransmission    2990 non-null object\n",
      "dtypes: object(14)\n",
      "memory usage: 12.4+ MB\n"
     ]
    }
   ],
   "source": [
    "total_cases.info()"
   ]
  },
  {
   "cell_type": "code",
   "execution_count": 27,
   "metadata": {},
   "outputs": [
    {
     "data": {
      "text/plain": [
       "agebracket             67885\n",
       "currentstatus            101\n",
       "dateannounced             67\n",
       "detecteddistrict        8087\n",
       "detectedstate            108\n",
       "entryid                28218\n",
       "gender                 65163\n",
       "nationality           105939\n",
       "numcases                 102\n",
       "patientnumber            491\n",
       "source1                 1947\n",
       "statepatientnumber     82577\n",
       "statuschangedate       80868\n",
       "typeoftransmission    105658\n",
       "dtype: int64"
      ]
     },
     "execution_count": 27,
     "metadata": {},
     "output_type": "execute_result"
    }
   ],
   "source": [
    "total_cases.isna().sum()"
   ]
  },
  {
   "cell_type": "code",
   "execution_count": 28,
   "metadata": {},
   "outputs": [
    {
     "data": {
      "text/plain": [
       "Local        1720\n",
       "TBD           637\n",
       "Imported      630\n",
       "Imported        2\n",
       "Unknown         1\n",
       "Name: typeoftransmission, dtype: int64"
      ]
     },
     "execution_count": 28,
     "metadata": {},
     "output_type": "execute_result"
    }
   ],
   "source": [
    "total_cases.typeoftransmission.value_counts()"
   ]
  },
  {
   "cell_type": "code",
   "execution_count": 29,
   "metadata": {},
   "outputs": [
    {
     "data": {
      "text/plain": [
       "Tamil Nadu                                  24784\n",
       "Karnataka                                   16377\n",
       "Maharashtra                                 11578\n",
       "Bihar                                        9145\n",
       "Uttar Pradesh                                6847\n",
       "Gujarat                                      5908\n",
       "Rajasthan                                    5022\n",
       "Madhya Pradesh                               4376\n",
       "Delhi                                        3089\n",
       "Andhra Pradesh                               2724\n",
       "West Bengal                                  2258\n",
       "Kerala                                       1958\n",
       "Odisha                                       1873\n",
       "Jammu and Kashmir                            1810\n",
       "Haryana                                      1649\n",
       "Telangana                                    1556\n",
       "Punjab                                       1453\n",
       "Uttarakhand                                   936\n",
       "Assam                                         887\n",
       "Chhattisgarh                                  873\n",
       "Jharkhand                                     871\n",
       "Himachal Pradesh                              502\n",
       "Chandigarh                                    458\n",
       "Manipur                                       335\n",
       "Tripura                                       318\n",
       "Nagaland                                      148\n",
       "Goa                                           131\n",
       "Puducherry                                    123\n",
       "Arunachal Pradesh                             103\n",
       "Ladakh                                         99\n",
       "Dadra and Nagar Haveli and Daman and Diu       80\n",
       "Mizoram                                        60\n",
       "Andaman and Nicobar Islands                    59\n",
       "Meghalaya                                      57\n",
       "Sikkim                                         54\n",
       "State Unassigned                               39\n",
       "Name: detectedstate, dtype: int64"
      ]
     },
     "execution_count": 29,
     "metadata": {},
     "output_type": "execute_result"
    }
   ],
   "source": [
    "total_cases.detectedstate.value_counts()"
   ]
  },
  {
   "cell_type": "markdown",
   "metadata": {},
   "source": [
    "### Two Datasets created - Dataset with Ages and Dataset with missing ages"
   ]
  },
  {
   "cell_type": "code",
   "execution_count": 65,
   "metadata": {},
   "outputs": [],
   "source": [
    "df_missingages = total_cases[total_cases['agebracket'].isna()]\n",
    "df_final = total_cases[total_cases['agebracket'].isna()==False]"
   ]
  },
  {
   "cell_type": "code",
   "execution_count": 66,
   "metadata": {},
   "outputs": [
    {
     "data": {
      "text/html": [
       "<div>\n",
       "<style scoped>\n",
       "    .dataframe tbody tr th:only-of-type {\n",
       "        vertical-align: middle;\n",
       "    }\n",
       "\n",
       "    .dataframe tbody tr th {\n",
       "        vertical-align: top;\n",
       "    }\n",
       "\n",
       "    .dataframe thead th {\n",
       "        text-align: right;\n",
       "    }\n",
       "</style>\n",
       "<table border=\"1\" class=\"dataframe\">\n",
       "  <thead>\n",
       "    <tr style=\"text-align: right;\">\n",
       "      <th></th>\n",
       "      <th>agebracket</th>\n",
       "      <th>currentstatus</th>\n",
       "      <th>dateannounced</th>\n",
       "      <th>detecteddistrict</th>\n",
       "      <th>detectedstate</th>\n",
       "      <th>entryid</th>\n",
       "      <th>gender</th>\n",
       "      <th>nationality</th>\n",
       "      <th>numcases</th>\n",
       "      <th>patientnumber</th>\n",
       "      <th>source1</th>\n",
       "      <th>statepatientnumber</th>\n",
       "      <th>statuschangedate</th>\n",
       "      <th>typeoftransmission</th>\n",
       "    </tr>\n",
       "  </thead>\n",
       "  <tbody>\n",
       "    <tr>\n",
       "      <td>1</td>\n",
       "      <td>NaN</td>\n",
       "      <td>Recovered</td>\n",
       "      <td>02/02/2020</td>\n",
       "      <td>Alappuzha</td>\n",
       "      <td>Kerala</td>\n",
       "      <td>NaN</td>\n",
       "      <td>NaN</td>\n",
       "      <td>India</td>\n",
       "      <td>1</td>\n",
       "      <td>2</td>\n",
       "      <td>https://www.indiatoday.in/india/story/kerala-r...</td>\n",
       "      <td>KL-AL-P1</td>\n",
       "      <td>14/02/2020</td>\n",
       "      <td>Imported</td>\n",
       "    </tr>\n",
       "    <tr>\n",
       "      <td>2</td>\n",
       "      <td>NaN</td>\n",
       "      <td>Recovered</td>\n",
       "      <td>03/02/2020</td>\n",
       "      <td>Kasaragod</td>\n",
       "      <td>Kerala</td>\n",
       "      <td>NaN</td>\n",
       "      <td>NaN</td>\n",
       "      <td>India</td>\n",
       "      <td>1</td>\n",
       "      <td>3</td>\n",
       "      <td>https://www.indiatoday.in/india/story/kerala-n...</td>\n",
       "      <td>KL-KS-P1</td>\n",
       "      <td>14/02/2020</td>\n",
       "      <td>Imported</td>\n",
       "    </tr>\n",
       "    <tr>\n",
       "      <td>21</td>\n",
       "      <td>NaN</td>\n",
       "      <td>Hospitalized</td>\n",
       "      <td>04/03/2020</td>\n",
       "      <td>Agra</td>\n",
       "      <td>Uttar Pradesh</td>\n",
       "      <td>NaN</td>\n",
       "      <td>M</td>\n",
       "      <td>India</td>\n",
       "      <td>1</td>\n",
       "      <td>22</td>\n",
       "      <td>https://www.businesstoday.in/latest/trends/cor...</td>\n",
       "      <td>NaN</td>\n",
       "      <td>04/03/2020</td>\n",
       "      <td>Local</td>\n",
       "    </tr>\n",
       "    <tr>\n",
       "      <td>22</td>\n",
       "      <td>NaN</td>\n",
       "      <td>Recovered</td>\n",
       "      <td>04/03/2020</td>\n",
       "      <td>Agra</td>\n",
       "      <td>Uttar Pradesh</td>\n",
       "      <td>NaN</td>\n",
       "      <td>F</td>\n",
       "      <td>India</td>\n",
       "      <td>1</td>\n",
       "      <td>23</td>\n",
       "      <td>https://www.businesstoday.in/latest/trends/cor...</td>\n",
       "      <td>NaN</td>\n",
       "      <td>15/03/2020</td>\n",
       "      <td>Local</td>\n",
       "    </tr>\n",
       "    <tr>\n",
       "      <td>24</td>\n",
       "      <td>NaN</td>\n",
       "      <td>Recovered</td>\n",
       "      <td>04/03/2020</td>\n",
       "      <td>Agra</td>\n",
       "      <td>Uttar Pradesh</td>\n",
       "      <td>NaN</td>\n",
       "      <td>M</td>\n",
       "      <td>India</td>\n",
       "      <td>1</td>\n",
       "      <td>25</td>\n",
       "      <td>https://www.businesstoday.in/latest/trends/cor...</td>\n",
       "      <td>NaN</td>\n",
       "      <td>15/03/2020</td>\n",
       "      <td>Local</td>\n",
       "    </tr>\n",
       "  </tbody>\n",
       "</table>\n",
       "</div>"
      ],
      "text/plain": [
       "   agebracket currentstatus dateannounced detecteddistrict  detectedstate  \\\n",
       "1         NaN     Recovered    02/02/2020        Alappuzha         Kerala   \n",
       "2         NaN     Recovered    03/02/2020        Kasaragod         Kerala   \n",
       "21        NaN  Hospitalized    04/03/2020             Agra  Uttar Pradesh   \n",
       "22        NaN     Recovered    04/03/2020             Agra  Uttar Pradesh   \n",
       "24        NaN     Recovered    04/03/2020             Agra  Uttar Pradesh   \n",
       "\n",
       "   entryid gender nationality numcases patientnumber  \\\n",
       "1      NaN    NaN       India        1             2   \n",
       "2      NaN    NaN       India        1             3   \n",
       "21     NaN      M       India        1            22   \n",
       "22     NaN      F       India        1            23   \n",
       "24     NaN      M       India        1            25   \n",
       "\n",
       "                                              source1 statepatientnumber  \\\n",
       "1   https://www.indiatoday.in/india/story/kerala-r...           KL-AL-P1   \n",
       "2   https://www.indiatoday.in/india/story/kerala-n...           KL-KS-P1   \n",
       "21  https://www.businesstoday.in/latest/trends/cor...                NaN   \n",
       "22  https://www.businesstoday.in/latest/trends/cor...                NaN   \n",
       "24  https://www.businesstoday.in/latest/trends/cor...                NaN   \n",
       "\n",
       "   statuschangedate typeoftransmission  \n",
       "1        14/02/2020           Imported  \n",
       "2        14/02/2020           Imported  \n",
       "21       04/03/2020              Local  \n",
       "22       15/03/2020              Local  \n",
       "24       15/03/2020              Local  "
      ]
     },
     "execution_count": 66,
     "metadata": {},
     "output_type": "execute_result"
    }
   ],
   "source": [
    "df_missingages.head()"
   ]
  },
  {
   "cell_type": "code",
   "execution_count": 67,
   "metadata": {},
   "outputs": [
    {
     "data": {
      "text/html": [
       "<div>\n",
       "<style scoped>\n",
       "    .dataframe tbody tr th:only-of-type {\n",
       "        vertical-align: middle;\n",
       "    }\n",
       "\n",
       "    .dataframe tbody tr th {\n",
       "        vertical-align: top;\n",
       "    }\n",
       "\n",
       "    .dataframe thead th {\n",
       "        text-align: right;\n",
       "    }\n",
       "</style>\n",
       "<table border=\"1\" class=\"dataframe\">\n",
       "  <thead>\n",
       "    <tr style=\"text-align: right;\">\n",
       "      <th></th>\n",
       "      <th>agebracket</th>\n",
       "      <th>currentstatus</th>\n",
       "      <th>dateannounced</th>\n",
       "      <th>detecteddistrict</th>\n",
       "      <th>detectedstate</th>\n",
       "      <th>entryid</th>\n",
       "      <th>gender</th>\n",
       "      <th>nationality</th>\n",
       "      <th>numcases</th>\n",
       "      <th>patientnumber</th>\n",
       "      <th>source1</th>\n",
       "      <th>statepatientnumber</th>\n",
       "      <th>statuschangedate</th>\n",
       "      <th>typeoftransmission</th>\n",
       "    </tr>\n",
       "  </thead>\n",
       "  <tbody>\n",
       "    <tr>\n",
       "      <td>0</td>\n",
       "      <td>20</td>\n",
       "      <td>Recovered</td>\n",
       "      <td>30/01/2020</td>\n",
       "      <td>Thrissur</td>\n",
       "      <td>Kerala</td>\n",
       "      <td>NaN</td>\n",
       "      <td>F</td>\n",
       "      <td>India</td>\n",
       "      <td>1</td>\n",
       "      <td>1</td>\n",
       "      <td>https://twitter.com/vijayanpinarayi/status/122...</td>\n",
       "      <td>KL-TS-P1</td>\n",
       "      <td>14/02/2020</td>\n",
       "      <td>Imported</td>\n",
       "    </tr>\n",
       "    <tr>\n",
       "      <td>3</td>\n",
       "      <td>45</td>\n",
       "      <td>Recovered</td>\n",
       "      <td>02/03/2020</td>\n",
       "      <td>East Delhi</td>\n",
       "      <td>Delhi</td>\n",
       "      <td>NaN</td>\n",
       "      <td>M</td>\n",
       "      <td>India</td>\n",
       "      <td>1</td>\n",
       "      <td>4</td>\n",
       "      <td>https://www.indiatoday.in/india/story/not-a-ja...</td>\n",
       "      <td>DL-P1</td>\n",
       "      <td>15/03/2020</td>\n",
       "      <td>Imported</td>\n",
       "    </tr>\n",
       "    <tr>\n",
       "      <td>4</td>\n",
       "      <td>24</td>\n",
       "      <td>Recovered</td>\n",
       "      <td>02/03/2020</td>\n",
       "      <td>Hyderabad</td>\n",
       "      <td>Telangana</td>\n",
       "      <td>NaN</td>\n",
       "      <td>M</td>\n",
       "      <td>India</td>\n",
       "      <td>1</td>\n",
       "      <td>5</td>\n",
       "      <td>https://www.deccanherald.com/national/south/qu...</td>\n",
       "      <td>TS-P1</td>\n",
       "      <td>02/03/2020</td>\n",
       "      <td>Imported</td>\n",
       "    </tr>\n",
       "    <tr>\n",
       "      <td>5</td>\n",
       "      <td>69</td>\n",
       "      <td>Recovered</td>\n",
       "      <td>03/03/2020</td>\n",
       "      <td>Italians</td>\n",
       "      <td>Rajasthan</td>\n",
       "      <td>NaN</td>\n",
       "      <td>M</td>\n",
       "      <td>Italy</td>\n",
       "      <td>1</td>\n",
       "      <td>6</td>\n",
       "      <td>https://indianexpress.com/article/india/corona...</td>\n",
       "      <td>NaN</td>\n",
       "      <td>03/03/2020</td>\n",
       "      <td>Imported</td>\n",
       "    </tr>\n",
       "    <tr>\n",
       "      <td>6</td>\n",
       "      <td>55</td>\n",
       "      <td>Recovered</td>\n",
       "      <td>04/03/2020</td>\n",
       "      <td>Italians</td>\n",
       "      <td>Haryana</td>\n",
       "      <td>NaN</td>\n",
       "      <td>NaN</td>\n",
       "      <td>Italy</td>\n",
       "      <td>1</td>\n",
       "      <td>7</td>\n",
       "      <td>https://indianexpress.com/article/india/corona...</td>\n",
       "      <td>NaN</td>\n",
       "      <td>29/03/2020</td>\n",
       "      <td>Imported</td>\n",
       "    </tr>\n",
       "  </tbody>\n",
       "</table>\n",
       "</div>"
      ],
      "text/plain": [
       "  agebracket currentstatus dateannounced detecteddistrict detectedstate  \\\n",
       "0         20     Recovered    30/01/2020         Thrissur        Kerala   \n",
       "3         45     Recovered    02/03/2020       East Delhi         Delhi   \n",
       "4         24     Recovered    02/03/2020        Hyderabad     Telangana   \n",
       "5         69     Recovered    03/03/2020         Italians     Rajasthan   \n",
       "6         55     Recovered    04/03/2020         Italians       Haryana   \n",
       "\n",
       "  entryid gender nationality numcases patientnumber  \\\n",
       "0     NaN      F       India        1             1   \n",
       "3     NaN      M       India        1             4   \n",
       "4     NaN      M       India        1             5   \n",
       "5     NaN      M       Italy        1             6   \n",
       "6     NaN    NaN       Italy        1             7   \n",
       "\n",
       "                                             source1 statepatientnumber  \\\n",
       "0  https://twitter.com/vijayanpinarayi/status/122...           KL-TS-P1   \n",
       "3  https://www.indiatoday.in/india/story/not-a-ja...              DL-P1   \n",
       "4  https://www.deccanherald.com/national/south/qu...              TS-P1   \n",
       "5  https://indianexpress.com/article/india/corona...                NaN   \n",
       "6  https://indianexpress.com/article/india/corona...                NaN   \n",
       "\n",
       "  statuschangedate typeoftransmission  \n",
       "0       14/02/2020           Imported  \n",
       "3       15/03/2020           Imported  \n",
       "4       02/03/2020           Imported  \n",
       "5       03/03/2020           Imported  \n",
       "6       29/03/2020           Imported  "
      ]
     },
     "execution_count": 67,
     "metadata": {},
     "output_type": "execute_result"
    }
   ],
   "source": [
    "df_final.head()"
   ]
  },
  {
   "cell_type": "code",
   "execution_count": 68,
   "metadata": {},
   "outputs": [
    {
     "data": {
      "text/plain": [
       "(40763, 14)"
      ]
     },
     "execution_count": 68,
     "metadata": {},
     "output_type": "execute_result"
    }
   ],
   "source": [
    "df_final.shape"
   ]
  },
  {
   "cell_type": "code",
   "execution_count": 69,
   "metadata": {},
   "outputs": [
    {
     "data": {
      "text/plain": [
       "agebracket                0\n",
       "currentstatus             0\n",
       "dateannounced             0\n",
       "detecteddistrict         24\n",
       "detectedstate             0\n",
       "entryid                2346\n",
       "gender                  718\n",
       "nationality           39848\n",
       "numcases                  0\n",
       "patientnumber            48\n",
       "source1                  88\n",
       "statepatientnumber    22833\n",
       "statuschangedate      38419\n",
       "typeoftransmission    39612\n",
       "dtype: int64"
      ]
     },
     "execution_count": 69,
     "metadata": {},
     "output_type": "execute_result"
    }
   ],
   "source": [
    "df_final.isna().sum()"
   ]
  },
  {
   "cell_type": "code",
   "execution_count": 70,
   "metadata": {},
   "outputs": [],
   "source": [
    "df_final.drop(['statepatientnumber','statuschangedate','typeoftransmission','nationality','numcases'],axis=1,inplace=True)"
   ]
  },
  {
   "cell_type": "code",
   "execution_count": 71,
   "metadata": {},
   "outputs": [
    {
     "name": "stdout",
     "output_type": "stream",
     "text": [
      "<class 'pandas.core.frame.DataFrame'>\n",
      "Int64Index: 40763 entries, 0 to 7994\n",
      "Data columns (total 9 columns):\n",
      "agebracket          40763 non-null object\n",
      "currentstatus       40763 non-null object\n",
      "dateannounced       40763 non-null object\n",
      "detecteddistrict    40739 non-null object\n",
      "detectedstate       40763 non-null object\n",
      "entryid             38417 non-null object\n",
      "gender              40045 non-null object\n",
      "patientnumber       40715 non-null object\n",
      "source1             40675 non-null object\n",
      "dtypes: object(9)\n",
      "memory usage: 3.1+ MB\n"
     ]
    }
   ],
   "source": [
    "df_final.info()"
   ]
  },
  {
   "cell_type": "code",
   "execution_count": 72,
   "metadata": {},
   "outputs": [
    {
     "data": {
      "text/plain": [
       "agebracket             0\n",
       "currentstatus          0\n",
       "dateannounced          0\n",
       "detecteddistrict      24\n",
       "detectedstate          0\n",
       "entryid             2346\n",
       "gender               718\n",
       "patientnumber         48\n",
       "source1               88\n",
       "dtype: int64"
      ]
     },
     "execution_count": 72,
     "metadata": {},
     "output_type": "execute_result"
    }
   ],
   "source": [
    "df_final.isna().sum()"
   ]
  },
  {
   "cell_type": "code",
   "execution_count": 73,
   "metadata": {},
   "outputs": [],
   "source": [
    "df_final['gender'].fillna(df_final['gender'].mode()[0],inplace=True)"
   ]
  },
  {
   "cell_type": "code",
   "execution_count": 74,
   "metadata": {},
   "outputs": [],
   "source": [
    "#df_final.dropna(inplace=True)\n",
    "df_final.rename(columns={'agebracket':'age','currentstatus':'status','detecteddistrict':'district','detectedstate':'state','dateannounced':'date'},inplace=True)"
   ]
  },
  {
   "cell_type": "code",
   "execution_count": 75,
   "metadata": {},
   "outputs": [
    {
     "name": "stdout",
     "output_type": "stream",
     "text": [
      "<class 'pandas.core.frame.DataFrame'>\n",
      "Int64Index: 40763 entries, 0 to 7994\n",
      "Data columns (total 9 columns):\n",
      "age              40763 non-null object\n",
      "status           40763 non-null object\n",
      "date             40763 non-null object\n",
      "district         40739 non-null object\n",
      "state            40763 non-null object\n",
      "entryid          38417 non-null object\n",
      "gender           40763 non-null object\n",
      "patientnumber    40715 non-null object\n",
      "source1          40675 non-null object\n",
      "dtypes: object(9)\n",
      "memory usage: 3.1+ MB\n"
     ]
    }
   ],
   "source": [
    "df_final.info()"
   ]
  },
  {
   "cell_type": "code",
   "execution_count": 76,
   "metadata": {},
   "outputs": [
    {
     "name": "stderr",
     "output_type": "stream",
     "text": [
      "C:\\Users\\hp1\\Anaconda3\\lib\\site-packages\\ipykernel_launcher.py:1: SettingWithCopyWarning: \n",
      "A value is trying to be set on a copy of a slice from a DataFrame.\n",
      "Try using .loc[row_indexer,col_indexer] = value instead\n",
      "\n",
      "See the caveats in the documentation: http://pandas.pydata.org/pandas-docs/stable/user_guide/indexing.html#returning-a-view-versus-a-copy\n",
      "  \"\"\"Entry point for launching an IPython kernel.\n"
     ]
    }
   ],
   "source": [
    "df_final['date']=pd.to_datetime(df_final['date'],dayfirst=True)"
   ]
  },
  {
   "cell_type": "code",
   "execution_count": 77,
   "metadata": {},
   "outputs": [
    {
     "data": {
      "text/plain": [
       "2020-01-30      1\n",
       "2020-03-02      2\n",
       "2020-03-03      1\n",
       "2020-03-04     17\n",
       "2020-03-05      2\n",
       "             ... \n",
       "2020-06-20    663\n",
       "2020-06-21    626\n",
       "2020-06-22    493\n",
       "2020-06-23    499\n",
       "2020-06-24    641\n",
       "Name: date, Length: 115, dtype: int64"
      ]
     },
     "execution_count": 77,
     "metadata": {},
     "output_type": "execute_result"
    }
   ],
   "source": [
    "df_final['date'].value_counts().sort_index()"
   ]
  },
  {
   "cell_type": "code",
   "execution_count": 78,
   "metadata": {},
   "outputs": [
    {
     "name": "stdout",
     "output_type": "stream",
     "text": [
      "<class 'pandas.core.frame.DataFrame'>\n",
      "Int64Index: 40763 entries, 0 to 7994\n",
      "Data columns (total 9 columns):\n",
      "age              40763 non-null object\n",
      "status           40763 non-null object\n",
      "date             40763 non-null datetime64[ns]\n",
      "district         40739 non-null object\n",
      "state            40763 non-null object\n",
      "entryid          38417 non-null object\n",
      "gender           40763 non-null object\n",
      "patientnumber    40715 non-null object\n",
      "source1          40675 non-null object\n",
      "dtypes: datetime64[ns](1), object(8)\n",
      "memory usage: 3.1+ MB\n"
     ]
    }
   ],
   "source": [
    "df_final.info()"
   ]
  },
  {
   "cell_type": "markdown",
   "metadata": {},
   "source": [
    "### Claeaning 'Age' Column"
   ]
  },
  {
   "cell_type": "code",
   "execution_count": 93,
   "metadata": {},
   "outputs": [
    {
     "data": {
      "text/plain": [
       "30          1544\n",
       "25          1347\n",
       "35          1321\n",
       "40          1249\n",
       "32          1141\n",
       "            ... \n",
       "5 months       1\n",
       "0.4            1\n",
       "1.6            1\n",
       "0.33           1\n",
       "54.9           1\n",
       "Name: age, Length: 119, dtype: int64"
      ]
     },
     "execution_count": 93,
     "metadata": {},
     "output_type": "execute_result"
    }
   ],
   "source": [
    "df_final['age'].value_counts()"
   ]
  },
  {
   "cell_type": "code",
   "execution_count": 79,
   "metadata": {},
   "outputs": [
    {
     "data": {
      "text/html": [
       "<div>\n",
       "<style scoped>\n",
       "    .dataframe tbody tr th:only-of-type {\n",
       "        vertical-align: middle;\n",
       "    }\n",
       "\n",
       "    .dataframe tbody tr th {\n",
       "        vertical-align: top;\n",
       "    }\n",
       "\n",
       "    .dataframe thead th {\n",
       "        text-align: right;\n",
       "    }\n",
       "</style>\n",
       "<table border=\"1\" class=\"dataframe\">\n",
       "  <thead>\n",
       "    <tr style=\"text-align: right;\">\n",
       "      <th></th>\n",
       "      <th>age</th>\n",
       "      <th>status</th>\n",
       "      <th>date</th>\n",
       "      <th>district</th>\n",
       "      <th>state</th>\n",
       "      <th>entryid</th>\n",
       "      <th>gender</th>\n",
       "      <th>patientnumber</th>\n",
       "      <th>source1</th>\n",
       "    </tr>\n",
       "  </thead>\n",
       "  <tbody>\n",
       "    <tr>\n",
       "      <td>924</td>\n",
       "      <td>28-35</td>\n",
       "      <td>Hospitalized</td>\n",
       "      <td>2020-03-28</td>\n",
       "      <td>Bandipora</td>\n",
       "      <td>Jammu and Kashmir</td>\n",
       "      <td>NaN</td>\n",
       "      <td>M</td>\n",
       "      <td>925</td>\n",
       "      <td>https://twitter.com/ANI/status/124383125547019...</td>\n",
       "    </tr>\n",
       "    <tr>\n",
       "      <td>925</td>\n",
       "      <td>28-35</td>\n",
       "      <td>Hospitalized</td>\n",
       "      <td>2020-03-28</td>\n",
       "      <td>Bandipora</td>\n",
       "      <td>Jammu and Kashmir</td>\n",
       "      <td>NaN</td>\n",
       "      <td>M</td>\n",
       "      <td>926</td>\n",
       "      <td>https://twitter.com/ANI/status/124383125547019...</td>\n",
       "    </tr>\n",
       "    <tr>\n",
       "      <td>926</td>\n",
       "      <td>28-35</td>\n",
       "      <td>Hospitalized</td>\n",
       "      <td>2020-03-28</td>\n",
       "      <td>Bandipora</td>\n",
       "      <td>Jammu and Kashmir</td>\n",
       "      <td>NaN</td>\n",
       "      <td>M</td>\n",
       "      <td>927</td>\n",
       "      <td>https://twitter.com/ANI/status/124383125547019...</td>\n",
       "    </tr>\n",
       "    <tr>\n",
       "      <td>927</td>\n",
       "      <td>28-35</td>\n",
       "      <td>Hospitalized</td>\n",
       "      <td>2020-03-28</td>\n",
       "      <td>Bandipora</td>\n",
       "      <td>Jammu and Kashmir</td>\n",
       "      <td>NaN</td>\n",
       "      <td>M</td>\n",
       "      <td>928</td>\n",
       "      <td>https://twitter.com/ANI/status/124383125547019...</td>\n",
       "    </tr>\n",
       "  </tbody>\n",
       "</table>\n",
       "</div>"
      ],
      "text/plain": [
       "       age        status       date   district              state entryid  \\\n",
       "924  28-35  Hospitalized 2020-03-28  Bandipora  Jammu and Kashmir     NaN   \n",
       "925  28-35  Hospitalized 2020-03-28  Bandipora  Jammu and Kashmir     NaN   \n",
       "926  28-35  Hospitalized 2020-03-28  Bandipora  Jammu and Kashmir     NaN   \n",
       "927  28-35  Hospitalized 2020-03-28  Bandipora  Jammu and Kashmir     NaN   \n",
       "\n",
       "    gender patientnumber                                            source1  \n",
       "924      M           925  https://twitter.com/ANI/status/124383125547019...  \n",
       "925      M           926  https://twitter.com/ANI/status/124383125547019...  \n",
       "926      M           927  https://twitter.com/ANI/status/124383125547019...  \n",
       "927      M           928  https://twitter.com/ANI/status/124383125547019...  "
      ]
     },
     "execution_count": 79,
     "metadata": {},
     "output_type": "execute_result"
    }
   ],
   "source": [
    "df_final[df_final['age']=='28-35']"
   ]
  },
  {
   "cell_type": "code",
   "execution_count": 95,
   "metadata": {},
   "outputs": [],
   "source": [
    "df_final['age'].replace('28-35','32',inplace=True)"
   ]
  },
  {
   "cell_type": "code",
   "execution_count": null,
   "metadata": {},
   "outputs": [],
   "source": []
  },
  {
   "cell_type": "code",
   "execution_count": 96,
   "metadata": {},
   "outputs": [],
   "source": [
    "df_final.drop(df_final[df_final['age']=='F' ].index,inplace=True)\n",
    "df_final.drop(df_final[df_final['age']=='M' ].index,inplace=True)"
   ]
  },
  {
   "cell_type": "code",
   "execution_count": 97,
   "metadata": {},
   "outputs": [
    {
     "data": {
      "text/html": [
       "<div>\n",
       "<style scoped>\n",
       "    .dataframe tbody tr th:only-of-type {\n",
       "        vertical-align: middle;\n",
       "    }\n",
       "\n",
       "    .dataframe tbody tr th {\n",
       "        vertical-align: top;\n",
       "    }\n",
       "\n",
       "    .dataframe thead th {\n",
       "        text-align: right;\n",
       "    }\n",
       "</style>\n",
       "<table border=\"1\" class=\"dataframe\">\n",
       "  <thead>\n",
       "    <tr style=\"text-align: right;\">\n",
       "      <th></th>\n",
       "      <th>age</th>\n",
       "      <th>status</th>\n",
       "      <th>date</th>\n",
       "      <th>district</th>\n",
       "      <th>state</th>\n",
       "      <th>entryid</th>\n",
       "      <th>gender</th>\n",
       "      <th>patientnumber</th>\n",
       "      <th>source1</th>\n",
       "    </tr>\n",
       "  </thead>\n",
       "  <tbody>\n",
       "  </tbody>\n",
       "</table>\n",
       "</div>"
      ],
      "text/plain": [
       "Empty DataFrame\n",
       "Columns: [age, status, date, district, state, entryid, gender, patientnumber, source1]\n",
       "Index: []"
      ]
     },
     "execution_count": 97,
     "metadata": {},
     "output_type": "execute_result"
    }
   ],
   "source": [
    "df_final[df_final['age']=='M']"
   ]
  },
  {
   "cell_type": "code",
   "execution_count": 98,
   "metadata": {},
   "outputs": [
    {
     "data": {
      "text/html": [
       "<div>\n",
       "<style scoped>\n",
       "    .dataframe tbody tr th:only-of-type {\n",
       "        vertical-align: middle;\n",
       "    }\n",
       "\n",
       "    .dataframe tbody tr th {\n",
       "        vertical-align: top;\n",
       "    }\n",
       "\n",
       "    .dataframe thead th {\n",
       "        text-align: right;\n",
       "    }\n",
       "</style>\n",
       "<table border=\"1\" class=\"dataframe\">\n",
       "  <thead>\n",
       "    <tr style=\"text-align: right;\">\n",
       "      <th></th>\n",
       "      <th>age</th>\n",
       "      <th>status</th>\n",
       "      <th>date</th>\n",
       "      <th>district</th>\n",
       "      <th>state</th>\n",
       "      <th>entryid</th>\n",
       "      <th>gender</th>\n",
       "      <th>patientnumber</th>\n",
       "      <th>source1</th>\n",
       "    </tr>\n",
       "  </thead>\n",
       "  <tbody>\n",
       "    <tr>\n",
       "      <td>2122</td>\n",
       "      <td>5 months</td>\n",
       "      <td>Hospitalized</td>\n",
       "      <td>2020-06-21</td>\n",
       "      <td>Bagalkote</td>\n",
       "      <td>Karnataka</td>\n",
       "      <td>74188</td>\n",
       "      <td>F</td>\n",
       "      <td>103558</td>\n",
       "      <td>https://twitter.com/DHFWKA/status/127469398451...</td>\n",
       "    </tr>\n",
       "    <tr>\n",
       "      <td>3930</td>\n",
       "      <td>5 Months</td>\n",
       "      <td>Hospitalized</td>\n",
       "      <td>2020-06-22</td>\n",
       "      <td>Chikkamagaluru</td>\n",
       "      <td>Karnataka</td>\n",
       "      <td>76001</td>\n",
       "      <td>M</td>\n",
       "      <td>105371</td>\n",
       "      <td>https://twitter.com/DHFWKA/status/127504580905...</td>\n",
       "    </tr>\n",
       "  </tbody>\n",
       "</table>\n",
       "</div>"
      ],
      "text/plain": [
       "           age        status       date        district      state entryid  \\\n",
       "2122  5 months  Hospitalized 2020-06-21       Bagalkote  Karnataka   74188   \n",
       "3930  5 Months  Hospitalized 2020-06-22  Chikkamagaluru  Karnataka   76001   \n",
       "\n",
       "     gender patientnumber                                            source1  \n",
       "2122      F        103558  https://twitter.com/DHFWKA/status/127469398451...  \n",
       "3930      M        105371  https://twitter.com/DHFWKA/status/127504580905...  "
      ]
     },
     "execution_count": 98,
     "metadata": {},
     "output_type": "execute_result"
    }
   ],
   "source": [
    " df_final[(df_final['age']=='5 Months')| (df_final['age']=='5 months')]"
   ]
  },
  {
   "cell_type": "code",
   "execution_count": 99,
   "metadata": {},
   "outputs": [
    {
     "data": {
      "text/html": [
       "<div>\n",
       "<style scoped>\n",
       "    .dataframe tbody tr th:only-of-type {\n",
       "        vertical-align: middle;\n",
       "    }\n",
       "\n",
       "    .dataframe tbody tr th {\n",
       "        vertical-align: top;\n",
       "    }\n",
       "\n",
       "    .dataframe thead th {\n",
       "        text-align: right;\n",
       "    }\n",
       "</style>\n",
       "<table border=\"1\" class=\"dataframe\">\n",
       "  <thead>\n",
       "    <tr style=\"text-align: right;\">\n",
       "      <th></th>\n",
       "      <th>age</th>\n",
       "      <th>status</th>\n",
       "      <th>date</th>\n",
       "      <th>district</th>\n",
       "      <th>state</th>\n",
       "      <th>entryid</th>\n",
       "      <th>gender</th>\n",
       "      <th>patientnumber</th>\n",
       "      <th>source1</th>\n",
       "    </tr>\n",
       "  </thead>\n",
       "  <tbody>\n",
       "    <tr>\n",
       "      <td>2122</td>\n",
       "      <td>5 months</td>\n",
       "      <td>Hospitalized</td>\n",
       "      <td>2020-06-21</td>\n",
       "      <td>Bagalkote</td>\n",
       "      <td>Karnataka</td>\n",
       "      <td>74188</td>\n",
       "      <td>F</td>\n",
       "      <td>103558</td>\n",
       "      <td>https://twitter.com/DHFWKA/status/127469398451...</td>\n",
       "    </tr>\n",
       "  </tbody>\n",
       "</table>\n",
       "</div>"
      ],
      "text/plain": [
       "           age        status       date   district      state entryid gender  \\\n",
       "2122  5 months  Hospitalized 2020-06-21  Bagalkote  Karnataka   74188      F   \n",
       "\n",
       "     patientnumber                                            source1  \n",
       "2122        103558  https://twitter.com/DHFWKA/status/127469398451...  "
      ]
     },
     "execution_count": 99,
     "metadata": {},
     "output_type": "execute_result"
    }
   ],
   "source": [
    "df_final[df_final['age']=='5 months']"
   ]
  },
  {
   "cell_type": "code",
   "execution_count": 100,
   "metadata": {},
   "outputs": [],
   "source": [
    "df_final['age'].replace(['11 Months','6 Months','4 Months','9 Months','5 Months','5 months'],['0.9','0.5','0.3','0.7','0.5','0.5'],inplace=True)"
   ]
  },
  {
   "cell_type": "code",
   "execution_count": 101,
   "metadata": {},
   "outputs": [
    {
     "name": "stderr",
     "output_type": "stream",
     "text": [
      "C:\\Users\\hp1\\Anaconda3\\lib\\site-packages\\ipykernel_launcher.py:1: SettingWithCopyWarning: \n",
      "A value is trying to be set on a copy of a slice from a DataFrame.\n",
      "Try using .loc[row_indexer,col_indexer] = value instead\n",
      "\n",
      "See the caveats in the documentation: http://pandas.pydata.org/pandas-docs/stable/user_guide/indexing.html#returning-a-view-versus-a-copy\n",
      "  \"\"\"Entry point for launching an IPython kernel.\n"
     ]
    }
   ],
   "source": [
    "df_final['age'] = df_final['age'].astype(str).astype(float)"
   ]
  },
  {
   "cell_type": "code",
   "execution_count": 102,
   "metadata": {},
   "outputs": [
    {
     "data": {
      "text/plain": [
       "0.00      3\n",
       "0.10     14\n",
       "0.20      3\n",
       "0.25      1\n",
       "0.30      4\n",
       "         ..\n",
       "95.00     4\n",
       "96.00     2\n",
       "97.00     1\n",
       "98.00     2\n",
       "99.00     3\n",
       "Name: age, Length: 117, dtype: int64"
      ]
     },
     "execution_count": 102,
     "metadata": {},
     "output_type": "execute_result"
    }
   ],
   "source": [
    "df_final['age'].value_counts().sort_index()"
   ]
  },
  {
   "cell_type": "code",
   "execution_count": 103,
   "metadata": {},
   "outputs": [],
   "source": [
    "df_final.drop(df_final[df_final['age']==0].index,inplace=True)"
   ]
  },
  {
   "cell_type": "markdown",
   "metadata": {},
   "source": [
    "#### No. of new born children COVID cases"
   ]
  },
  {
   "cell_type": "code",
   "execution_count": 104,
   "metadata": {},
   "outputs": [
    {
     "data": {
      "text/plain": [
       "40"
      ]
     },
     "execution_count": 104,
     "metadata": {},
     "output_type": "execute_result"
    }
   ],
   "source": [
    "df_final[df_final['age']<1].shape[0]"
   ]
  },
  {
   "cell_type": "markdown",
   "metadata": {},
   "source": [
    "#### Creating age groups to make the count of people understandable"
   ]
  },
  {
   "cell_type": "code",
   "execution_count": 105,
   "metadata": {},
   "outputs": [
    {
     "data": {
      "text/plain": [
       "40"
      ]
     },
     "execution_count": 105,
     "metadata": {},
     "output_type": "execute_result"
    }
   ],
   "source": [
    "newBorn=df_final[df_final['age']<1]\n",
    "c_newBorn=newBorn.shape[0]\n",
    "c_newBorn"
   ]
  },
  {
   "cell_type": "code",
   "execution_count": 106,
   "metadata": {},
   "outputs": [
    {
     "data": {
      "text/plain": [
       "2865"
      ]
     },
     "execution_count": 106,
     "metadata": {},
     "output_type": "execute_result"
    }
   ],
   "source": [
    "child=df_final[(df_final['age']>=1) &(df_final['age']<=12)]\n",
    "c_child=child.shape[0]\n",
    "c_child"
   ]
  },
  {
   "cell_type": "code",
   "execution_count": 107,
   "metadata": {},
   "outputs": [
    {
     "data": {
      "text/plain": [
       "7636"
      ]
     },
     "execution_count": 107,
     "metadata": {},
     "output_type": "execute_result"
    }
   ],
   "source": [
    "young=df_final[(df_final['age']>13) &(df_final['age']<=24)]\n",
    "c_young=young.shape[0]\n",
    "c_young"
   ]
  },
  {
   "cell_type": "code",
   "execution_count": 108,
   "metadata": {},
   "outputs": [
    {
     "data": {
      "text/plain": [
       "24744"
      ]
     },
     "execution_count": 108,
     "metadata": {},
     "output_type": "execute_result"
    }
   ],
   "source": [
    "adult=df_final[(df_final['age']>=25) &(df_final['age']<=55)]\n",
    "c_adult=adult.shape[0]\n",
    "c_adult"
   ]
  },
  {
   "cell_type": "code",
   "execution_count": 109,
   "metadata": {},
   "outputs": [
    {
     "data": {
      "text/plain": [
       "5144"
      ]
     },
     "execution_count": 109,
     "metadata": {},
     "output_type": "execute_result"
    }
   ],
   "source": [
    "old=df_final[df_final['age']>55]\n",
    "c_old=old.shape[0]\n",
    "c_old"
   ]
  },
  {
   "cell_type": "code",
   "execution_count": 110,
   "metadata": {},
   "outputs": [
    {
     "data": {
      "image/png": "[encoded data removed]",
      "text/plain": [
       "<Figure size 432x288 with 1 Axes>"
      ]
     },
     "metadata": {
      "needs_background": "light"
     },
     "output_type": "display_data"
    }
   ],
   "source": [
    "plt.bar(x=['Babies','Children','Young','Adults','Old'],height=[c_newBorn,c_child,c_young,c_adult,c_old]);\n",
    "plt.xlabel(\"Age Groups\");\n",
    "plt.ylabel(\"No. of Patients\");\n",
    "plt.title('Age Groups and No. of Patients Relationship');"
   ]
  },
  {
   "cell_type": "code",
   "execution_count": 111,
   "metadata": {},
   "outputs": [
    {
     "data": {
      "image/png": "[encoded data removed]",
      "text/plain": [
       "<Figure size 432x288 with 1 Axes>"
      ]
     },
     "metadata": {
      "needs_background": "light"
     },
     "output_type": "display_data"
    }
   ],
   "source": [
    "plt.hist(df_final['age']);\n",
    "plt.xlabel('Ages');\n",
    "plt.ylabel('Count of Patients');\n",
    "plt.title('Age Groups and No. of Patients Relationship');"
   ]
  },
  {
   "cell_type": "markdown",
   "metadata": {},
   "source": [
    "#### Cleaning 'gender' column"
   ]
  },
  {
   "cell_type": "code",
   "execution_count": 112,
   "metadata": {},
   "outputs": [
    {
     "data": {
      "text/plain": [
       "M             27631\n",
       "F             13114\n",
       "Non-Binary        7\n",
       "NA                3\n",
       "M                 1\n",
       "Name: gender, dtype: int64"
      ]
     },
     "execution_count": 112,
     "metadata": {},
     "output_type": "execute_result"
    }
   ],
   "source": [
    "df_final.gender.value_counts()"
   ]
  },
  {
   "cell_type": "code",
   "execution_count": 113,
   "metadata": {},
   "outputs": [
    {
     "name": "stderr",
     "output_type": "stream",
     "text": [
      "C:\\Users\\hp1\\Anaconda3\\lib\\site-packages\\pandas\\core\\frame.py:4263: SettingWithCopyWarning: \n",
      "A value is trying to be set on a copy of a slice from a DataFrame\n",
      "\n",
      "See the caveats in the documentation: http://pandas.pydata.org/pandas-docs/stable/user_guide/indexing.html#returning-a-view-versus-a-copy\n",
      "  method=method,\n"
     ]
    }
   ],
   "source": [
    "df_final.replace(['Non-Binary','NA'],'Others',inplace=True)"
   ]
  },
  {
   "cell_type": "code",
   "execution_count": 114,
   "metadata": {},
   "outputs": [
    {
     "data": {
      "text/plain": [
       "M         27631\n",
       "F         13114\n",
       "Others       10\n",
       "M             1\n",
       "Name: gender, dtype: int64"
      ]
     },
     "execution_count": 114,
     "metadata": {},
     "output_type": "execute_result"
    }
   ],
   "source": [
    "df_final.gender.value_counts()"
   ]
  },
  {
   "cell_type": "code",
   "execution_count": 115,
   "metadata": {},
   "outputs": [],
   "source": [
    "df_final = df_final.query('gender==\"M\" or gender==\"F\" or gender==\"Others\"')"
   ]
  },
  {
   "cell_type": "code",
   "execution_count": 116,
   "metadata": {},
   "outputs": [
    {
     "data": {
      "text/plain": [
       "M         27631\n",
       "F         13114\n",
       "Others       10\n",
       "Name: gender, dtype: int64"
      ]
     },
     "execution_count": 116,
     "metadata": {},
     "output_type": "execute_result"
    }
   ],
   "source": [
    "df_final.gender.value_counts()"
   ]
  },
  {
   "cell_type": "code",
   "execution_count": 117,
   "metadata": {},
   "outputs": [
    {
     "data": {
      "text/plain": [
       "Tamil Nadu                                  20502\n",
       "Karnataka                                   10199\n",
       "Bihar                                        7955\n",
       "Andhra Pradesh                                414\n",
       "Chandigarh                                    343\n",
       "Gujarat                                       288\n",
       "Odisha                                        276\n",
       "Kerala                                        259\n",
       "Maharashtra                                    65\n",
       "Manipur                                        56\n",
       "Uttarakhand                                    48\n",
       "Telangana                                      48\n",
       "Uttar Pradesh                                  46\n",
       "Punjab                                         39\n",
       "Rajasthan                                      37\n",
       "West Bengal                                    27\n",
       "Haryana                                        25\n",
       "Madhya Pradesh                                 21\n",
       "Himachal Pradesh                               17\n",
       "Delhi                                          15\n",
       "Jammu and Kashmir                              14\n",
       "Dadra and Nagar Haveli and Daman and Diu       14\n",
       "Chhattisgarh                                   10\n",
       "Puducherry                                      8\n",
       "Goa                                             7\n",
       "Mizoram                                         7\n",
       "Assam                                           4\n",
       "Andaman and Nicobar Islands                     3\n",
       "Ladakh                                          3\n",
       "Jharkhand                                       2\n",
       "Sikkim                                          1\n",
       "Tripura                                         1\n",
       "Meghalaya                                       1\n",
       "Name: state, dtype: int64"
      ]
     },
     "execution_count": 117,
     "metadata": {},
     "output_type": "execute_result"
    }
   ],
   "source": [
    "df_final.state.value_counts()"
   ]
  },
  {
   "cell_type": "code",
   "execution_count": 118,
   "metadata": {},
   "outputs": [
    {
     "data": {
      "text/plain": [
       "ARWAL             1\n",
       "AURANGABAD        1\n",
       "Agra              3\n",
       "Ahmedabad       174\n",
       "Ahmednagar        1\n",
       "               ... \n",
       "Yadgir          906\n",
       "Yavatmal          1\n",
       "bhagalpur         3\n",
       "chengalpattu      2\n",
       "chennai           4\n",
       "Name: district, Length: 327, dtype: int64"
      ]
     },
     "execution_count": 118,
     "metadata": {},
     "output_type": "execute_result"
    }
   ],
   "source": [
    "df_final.district.value_counts().sort_index()"
   ]
  },
  {
   "cell_type": "code",
   "execution_count": 119,
   "metadata": {},
   "outputs": [
    {
     "data": {
      "text/html": [
       "<div>\n",
       "<style scoped>\n",
       "    .dataframe tbody tr th:only-of-type {\n",
       "        vertical-align: middle;\n",
       "    }\n",
       "\n",
       "    .dataframe tbody tr th {\n",
       "        vertical-align: top;\n",
       "    }\n",
       "\n",
       "    .dataframe thead th {\n",
       "        text-align: right;\n",
       "    }\n",
       "</style>\n",
       "<table border=\"1\" class=\"dataframe\">\n",
       "  <thead>\n",
       "    <tr style=\"text-align: right;\">\n",
       "      <th></th>\n",
       "      <th>age</th>\n",
       "      <th>status</th>\n",
       "      <th>date</th>\n",
       "      <th>district</th>\n",
       "      <th>state</th>\n",
       "      <th>entryid</th>\n",
       "      <th>gender</th>\n",
       "      <th>patientnumber</th>\n",
       "      <th>source1</th>\n",
       "    </tr>\n",
       "  </thead>\n",
       "  <tbody>\n",
       "    <tr>\n",
       "      <td>2766</td>\n",
       "      <td>31.0</td>\n",
       "      <td>Hospitalized</td>\n",
       "      <td>2020-05-12</td>\n",
       "      <td>Airport Quarantine</td>\n",
       "      <td>Tamil Nadu</td>\n",
       "      <td>12775</td>\n",
       "      <td>M</td>\n",
       "      <td>41714</td>\n",
       "      <td>https://stopcorona.tn.gov.in/wp-content/upload...</td>\n",
       "    </tr>\n",
       "    <tr>\n",
       "      <td>2767</td>\n",
       "      <td>32.0</td>\n",
       "      <td>Hospitalized</td>\n",
       "      <td>2020-05-12</td>\n",
       "      <td>Airport Quarantine</td>\n",
       "      <td>Tamil Nadu</td>\n",
       "      <td>12776</td>\n",
       "      <td>M</td>\n",
       "      <td>41715</td>\n",
       "      <td>https://stopcorona.tn.gov.in/wp-content/upload...</td>\n",
       "    </tr>\n",
       "    <tr>\n",
       "      <td>2768</td>\n",
       "      <td>48.0</td>\n",
       "      <td>Hospitalized</td>\n",
       "      <td>2020-05-12</td>\n",
       "      <td>Airport Quarantine</td>\n",
       "      <td>Tamil Nadu</td>\n",
       "      <td>12777</td>\n",
       "      <td>M</td>\n",
       "      <td>41716</td>\n",
       "      <td>https://stopcorona.tn.gov.in/wp-content/upload...</td>\n",
       "    </tr>\n",
       "    <tr>\n",
       "      <td>2769</td>\n",
       "      <td>30.0</td>\n",
       "      <td>Hospitalized</td>\n",
       "      <td>2020-05-12</td>\n",
       "      <td>Airport Quarantine</td>\n",
       "      <td>Tamil Nadu</td>\n",
       "      <td>12778</td>\n",
       "      <td>M</td>\n",
       "      <td>41717</td>\n",
       "      <td>https://stopcorona.tn.gov.in/wp-content/upload...</td>\n",
       "    </tr>\n",
       "    <tr>\n",
       "      <td>4140</td>\n",
       "      <td>37.0</td>\n",
       "      <td>Hospitalized</td>\n",
       "      <td>2020-05-13</td>\n",
       "      <td>Airport Quarantine</td>\n",
       "      <td>Tamil Nadu</td>\n",
       "      <td>14149</td>\n",
       "      <td>F</td>\n",
       "      <td>43088</td>\n",
       "      <td>https://stopcorona.tn.gov.in/wp-content/upload...</td>\n",
       "    </tr>\n",
       "    <tr>\n",
       "      <td>...</td>\n",
       "      <td>...</td>\n",
       "      <td>...</td>\n",
       "      <td>...</td>\n",
       "      <td>...</td>\n",
       "      <td>...</td>\n",
       "      <td>...</td>\n",
       "      <td>...</td>\n",
       "      <td>...</td>\n",
       "      <td>...</td>\n",
       "    </tr>\n",
       "    <tr>\n",
       "      <td>13716</td>\n",
       "      <td>25.0</td>\n",
       "      <td>Hospitalized</td>\n",
       "      <td>2020-05-31</td>\n",
       "      <td>Airport Quarantine</td>\n",
       "      <td>Tamil Nadu</td>\n",
       "      <td>41937</td>\n",
       "      <td>F</td>\n",
       "      <td>70873</td>\n",
       "      <td>https://stopcorona.tn.gov.in/wp-content/upload...</td>\n",
       "    </tr>\n",
       "    <tr>\n",
       "      <td>13721</td>\n",
       "      <td>34.0</td>\n",
       "      <td>Hospitalized</td>\n",
       "      <td>2020-05-31</td>\n",
       "      <td>Airport Quarantine</td>\n",
       "      <td>Tamil Nadu</td>\n",
       "      <td>41942</td>\n",
       "      <td>M</td>\n",
       "      <td>70878</td>\n",
       "      <td>https://stopcorona.tn.gov.in/wp-content/upload...</td>\n",
       "    </tr>\n",
       "    <tr>\n",
       "      <td>13812</td>\n",
       "      <td>30.0</td>\n",
       "      <td>Hospitalized</td>\n",
       "      <td>2020-05-31</td>\n",
       "      <td>Airport Quarantine</td>\n",
       "      <td>Tamil Nadu</td>\n",
       "      <td>42033</td>\n",
       "      <td>M</td>\n",
       "      <td>70969</td>\n",
       "      <td>https://stopcorona.tn.gov.in/wp-content/upload...</td>\n",
       "    </tr>\n",
       "    <tr>\n",
       "      <td>13817</td>\n",
       "      <td>51.0</td>\n",
       "      <td>Hospitalized</td>\n",
       "      <td>2020-05-31</td>\n",
       "      <td>Airport Quarantine</td>\n",
       "      <td>Tamil Nadu</td>\n",
       "      <td>42038</td>\n",
       "      <td>Others</td>\n",
       "      <td>70974</td>\n",
       "      <td>https://stopcorona.tn.gov.in/wp-content/upload...</td>\n",
       "    </tr>\n",
       "    <tr>\n",
       "      <td>13927</td>\n",
       "      <td>56.0</td>\n",
       "      <td>Hospitalized</td>\n",
       "      <td>2020-05-31</td>\n",
       "      <td>Airport Quarantine</td>\n",
       "      <td>Tamil Nadu</td>\n",
       "      <td>42148</td>\n",
       "      <td>M</td>\n",
       "      <td>71084</td>\n",
       "      <td>https://stopcorona.tn.gov.in/wp-content/upload...</td>\n",
       "    </tr>\n",
       "  </tbody>\n",
       "</table>\n",
       "<p>100 rows × 9 columns</p>\n",
       "</div>"
      ],
      "text/plain": [
       "        age        status       date            district       state entryid  \\\n",
       "2766   31.0  Hospitalized 2020-05-12  Airport Quarantine  Tamil Nadu   12775   \n",
       "2767   32.0  Hospitalized 2020-05-12  Airport Quarantine  Tamil Nadu   12776   \n",
       "2768   48.0  Hospitalized 2020-05-12  Airport Quarantine  Tamil Nadu   12777   \n",
       "2769   30.0  Hospitalized 2020-05-12  Airport Quarantine  Tamil Nadu   12778   \n",
       "4140   37.0  Hospitalized 2020-05-13  Airport Quarantine  Tamil Nadu   14149   \n",
       "...     ...           ...        ...                 ...         ...     ...   \n",
       "13716  25.0  Hospitalized 2020-05-31  Airport Quarantine  Tamil Nadu   41937   \n",
       "13721  34.0  Hospitalized 2020-05-31  Airport Quarantine  Tamil Nadu   41942   \n",
       "13812  30.0  Hospitalized 2020-05-31  Airport Quarantine  Tamil Nadu   42033   \n",
       "13817  51.0  Hospitalized 2020-05-31  Airport Quarantine  Tamil Nadu   42038   \n",
       "13927  56.0  Hospitalized 2020-05-31  Airport Quarantine  Tamil Nadu   42148   \n",
       "\n",
       "       gender patientnumber                                            source1  \n",
       "2766        M         41714  https://stopcorona.tn.gov.in/wp-content/upload...  \n",
       "2767        M         41715  https://stopcorona.tn.gov.in/wp-content/upload...  \n",
       "2768        M         41716  https://stopcorona.tn.gov.in/wp-content/upload...  \n",
       "2769        M         41717  https://stopcorona.tn.gov.in/wp-content/upload...  \n",
       "4140        F         43088  https://stopcorona.tn.gov.in/wp-content/upload...  \n",
       "...       ...           ...                                                ...  \n",
       "13716       F         70873  https://stopcorona.tn.gov.in/wp-content/upload...  \n",
       "13721       M         70878  https://stopcorona.tn.gov.in/wp-content/upload...  \n",
       "13812       M         70969  https://stopcorona.tn.gov.in/wp-content/upload...  \n",
       "13817  Others         70974  https://stopcorona.tn.gov.in/wp-content/upload...  \n",
       "13927       M         71084  https://stopcorona.tn.gov.in/wp-content/upload...  \n",
       "\n",
       "[100 rows x 9 columns]"
      ]
     },
     "execution_count": 119,
     "metadata": {},
     "output_type": "execute_result"
    }
   ],
   "source": [
    "df_final[df_final['district']==\"Airport Quarantine\"]"
   ]
  },
  {
   "cell_type": "code",
   "execution_count": 120,
   "metadata": {},
   "outputs": [],
   "source": [
    "italians_list = df_final[df_final['district']==\"Italians\"].index"
   ]
  },
  {
   "cell_type": "code",
   "execution_count": 121,
   "metadata": {},
   "outputs": [],
   "source": [
    "df_final['district'].replace(['Italians','Airport Quarantine'], np.NaN,inplace=True)"
   ]
  },
  {
   "cell_type": "code",
   "execution_count": 122,
   "metadata": {},
   "outputs": [
    {
     "data": {
      "text/html": [
       "<div>\n",
       "<style scoped>\n",
       "    .dataframe tbody tr th:only-of-type {\n",
       "        vertical-align: middle;\n",
       "    }\n",
       "\n",
       "    .dataframe tbody tr th {\n",
       "        vertical-align: top;\n",
       "    }\n",
       "\n",
       "    .dataframe thead th {\n",
       "        text-align: right;\n",
       "    }\n",
       "</style>\n",
       "<table border=\"1\" class=\"dataframe\">\n",
       "  <thead>\n",
       "    <tr style=\"text-align: right;\">\n",
       "      <th></th>\n",
       "      <th>age</th>\n",
       "      <th>status</th>\n",
       "      <th>date</th>\n",
       "      <th>district</th>\n",
       "      <th>state</th>\n",
       "      <th>entryid</th>\n",
       "      <th>gender</th>\n",
       "      <th>patientnumber</th>\n",
       "      <th>source1</th>\n",
       "    </tr>\n",
       "  </thead>\n",
       "  <tbody>\n",
       "    <tr>\n",
       "      <td>6705</td>\n",
       "      <td>30.0</td>\n",
       "      <td>Hospitalized</td>\n",
       "      <td>2020-06-24</td>\n",
       "      <td>Madhubani</td>\n",
       "      <td>Bihar</td>\n",
       "      <td>78779</td>\n",
       "      <td>M</td>\n",
       "      <td>108147</td>\n",
       "      <td>https://twitter.com/BiharHealthDept/status/127...</td>\n",
       "    </tr>\n",
       "    <tr>\n",
       "      <td>5273</td>\n",
       "      <td>6.0</td>\n",
       "      <td>Hospitalized</td>\n",
       "      <td>2020-06-08</td>\n",
       "      <td>Udupi</td>\n",
       "      <td>Karnataka</td>\n",
       "      <td>53904</td>\n",
       "      <td>M</td>\n",
       "      <td>83274</td>\n",
       "      <td>https://twitter.com/DHFWKA/status/126996978184...</td>\n",
       "    </tr>\n",
       "    <tr>\n",
       "      <td>16955</td>\n",
       "      <td>25.0</td>\n",
       "      <td>Hospitalized</td>\n",
       "      <td>2020-06-02</td>\n",
       "      <td>Kalaburagi</td>\n",
       "      <td>Karnataka</td>\n",
       "      <td>45160</td>\n",
       "      <td>M</td>\n",
       "      <td>74085</td>\n",
       "      <td>https://twitter.com/DHFWKA/status/126783039441...</td>\n",
       "    </tr>\n",
       "    <tr>\n",
       "      <td>9247</td>\n",
       "      <td>21.0</td>\n",
       "      <td>Hospitalized</td>\n",
       "      <td>2020-05-09</td>\n",
       "      <td>Chennai</td>\n",
       "      <td>Tamil Nadu</td>\n",
       "      <td>9247</td>\n",
       "      <td>M</td>\n",
       "      <td>37140</td>\n",
       "      <td>https://stopcorona.tn.gov.in/wp-content/upload...</td>\n",
       "    </tr>\n",
       "    <tr>\n",
       "      <td>6573</td>\n",
       "      <td>34.0</td>\n",
       "      <td>Hospitalized</td>\n",
       "      <td>2020-06-09</td>\n",
       "      <td>Madhepura</td>\n",
       "      <td>Bihar</td>\n",
       "      <td>55204</td>\n",
       "      <td>M</td>\n",
       "      <td>84574</td>\n",
       "      <td>https://twitter.com/BiharHealthDept/status/127...</td>\n",
       "    </tr>\n",
       "    <tr>\n",
       "      <td>641</td>\n",
       "      <td>24.0</td>\n",
       "      <td>Recovered</td>\n",
       "      <td>2020-03-25</td>\n",
       "      <td>Raipur</td>\n",
       "      <td>Chhattisgarh</td>\n",
       "      <td>NaN</td>\n",
       "      <td>F</td>\n",
       "      <td>642</td>\n",
       "      <td>https://timesofindia.indiatimes.com/city/raip...</td>\n",
       "    </tr>\n",
       "    <tr>\n",
       "      <td>14199</td>\n",
       "      <td>28.0</td>\n",
       "      <td>Hospitalized</td>\n",
       "      <td>2020-05-31</td>\n",
       "      <td>Belagavi</td>\n",
       "      <td>Karnataka</td>\n",
       "      <td>42420</td>\n",
       "      <td>F</td>\n",
       "      <td>71356</td>\n",
       "      <td>https://twitter.com/DHFWKA/status/126707739902...</td>\n",
       "    </tr>\n",
       "    <tr>\n",
       "      <td>13659</td>\n",
       "      <td>44.0</td>\n",
       "      <td>Hospitalized</td>\n",
       "      <td>2020-05-21</td>\n",
       "      <td>Chennai</td>\n",
       "      <td>Tamil Nadu</td>\n",
       "      <td>23664</td>\n",
       "      <td>F</td>\n",
       "      <td>52606</td>\n",
       "      <td>https://stopcorona.tn.gov.in/wp-content/upload...</td>\n",
       "    </tr>\n",
       "    <tr>\n",
       "      <td>4164</td>\n",
       "      <td>70.0</td>\n",
       "      <td>Hospitalized</td>\n",
       "      <td>2020-05-04</td>\n",
       "      <td>Chennai</td>\n",
       "      <td>Tamil Nadu</td>\n",
       "      <td>4164</td>\n",
       "      <td>M</td>\n",
       "      <td>32055</td>\n",
       "      <td>https://stopcorona.tn.gov.in/wp-content/upload...</td>\n",
       "    </tr>\n",
       "    <tr>\n",
       "      <td>1769</td>\n",
       "      <td>41.0</td>\n",
       "      <td>Hospitalized</td>\n",
       "      <td>2020-04-30</td>\n",
       "      <td>Chennai</td>\n",
       "      <td>Tamil Nadu</td>\n",
       "      <td>1770</td>\n",
       "      <td>F</td>\n",
       "      <td>29661</td>\n",
       "      <td>https://stopcorona.tn.gov.in/wp-content/upload...</td>\n",
       "    </tr>\n",
       "    <tr>\n",
       "      <td>17364</td>\n",
       "      <td>26.0</td>\n",
       "      <td>Hospitalized</td>\n",
       "      <td>2020-05-23</td>\n",
       "      <td>Chennai</td>\n",
       "      <td>Tamil Nadu</td>\n",
       "      <td>27369</td>\n",
       "      <td>M</td>\n",
       "      <td>56312</td>\n",
       "      <td>https://stopcorona.tn.gov.in/wp-content/upload...</td>\n",
       "    </tr>\n",
       "    <tr>\n",
       "      <td>9486</td>\n",
       "      <td>60.0</td>\n",
       "      <td>Hospitalized</td>\n",
       "      <td>2020-05-29</td>\n",
       "      <td>Chennai</td>\n",
       "      <td>Tamil Nadu</td>\n",
       "      <td>37681</td>\n",
       "      <td>F</td>\n",
       "      <td>66617</td>\n",
       "      <td>https://stopcorona.tn.gov.in/wp-content/upload...</td>\n",
       "    </tr>\n",
       "    <tr>\n",
       "      <td>2848</td>\n",
       "      <td>28.0</td>\n",
       "      <td>Hospitalized</td>\n",
       "      <td>2020-05-25</td>\n",
       "      <td>Tiruvannamalai</td>\n",
       "      <td>Tamil Nadu</td>\n",
       "      <td>31071</td>\n",
       "      <td>F</td>\n",
       "      <td>60007</td>\n",
       "      <td>https://stopcorona.tn.gov.in/wp-content/upload...</td>\n",
       "    </tr>\n",
       "    <tr>\n",
       "      <td>7637</td>\n",
       "      <td>16.0</td>\n",
       "      <td>Hospitalized</td>\n",
       "      <td>2020-05-28</td>\n",
       "      <td>Railway Quarantine</td>\n",
       "      <td>Tamil Nadu</td>\n",
       "      <td>35828</td>\n",
       "      <td>M</td>\n",
       "      <td>64764</td>\n",
       "      <td>https://stopcorona.tn.gov.in/wp-content/upload...</td>\n",
       "    </tr>\n",
       "    <tr>\n",
       "      <td>7135</td>\n",
       "      <td>68.0</td>\n",
       "      <td>Hospitalized</td>\n",
       "      <td>2020-05-28</td>\n",
       "      <td>Chennai</td>\n",
       "      <td>Tamil Nadu</td>\n",
       "      <td>35326</td>\n",
       "      <td>F</td>\n",
       "      <td>64262</td>\n",
       "      <td>https://stopcorona.tn.gov.in/wp-content/upload...</td>\n",
       "    </tr>\n",
       "  </tbody>\n",
       "</table>\n",
       "</div>"
      ],
      "text/plain": [
       "        age        status       date            district         state  \\\n",
       "6705   30.0  Hospitalized 2020-06-24           Madhubani         Bihar   \n",
       "5273    6.0  Hospitalized 2020-06-08               Udupi     Karnataka   \n",
       "16955  25.0  Hospitalized 2020-06-02          Kalaburagi     Karnataka   \n",
       "9247   21.0  Hospitalized 2020-05-09             Chennai    Tamil Nadu   \n",
       "6573   34.0  Hospitalized 2020-06-09           Madhepura         Bihar   \n",
       "641    24.0     Recovered 2020-03-25              Raipur  Chhattisgarh   \n",
       "14199  28.0  Hospitalized 2020-05-31            Belagavi     Karnataka   \n",
       "13659  44.0  Hospitalized 2020-05-21             Chennai    Tamil Nadu   \n",
       "4164   70.0  Hospitalized 2020-05-04             Chennai    Tamil Nadu   \n",
       "1769   41.0  Hospitalized 2020-04-30             Chennai    Tamil Nadu   \n",
       "17364  26.0  Hospitalized 2020-05-23             Chennai    Tamil Nadu   \n",
       "9486   60.0  Hospitalized 2020-05-29             Chennai    Tamil Nadu   \n",
       "2848   28.0  Hospitalized 2020-05-25      Tiruvannamalai    Tamil Nadu   \n",
       "7637   16.0  Hospitalized 2020-05-28  Railway Quarantine    Tamil Nadu   \n",
       "7135   68.0  Hospitalized 2020-05-28             Chennai    Tamil Nadu   \n",
       "\n",
       "      entryid gender patientnumber  \\\n",
       "6705    78779      M        108147   \n",
       "5273    53904      M         83274   \n",
       "16955   45160      M         74085   \n",
       "9247     9247      M         37140   \n",
       "6573    55204      M         84574   \n",
       "641       NaN      F           642   \n",
       "14199   42420      F         71356   \n",
       "13659   23664      F         52606   \n",
       "4164     4164      M         32055   \n",
       "1769     1770      F         29661   \n",
       "17364   27369      M         56312   \n",
       "9486    37681      F         66617   \n",
       "2848    31071      F         60007   \n",
       "7637    35828      M         64764   \n",
       "7135    35326      F         64262   \n",
       "\n",
       "                                                 source1  \n",
       "6705   https://twitter.com/BiharHealthDept/status/127...  \n",
       "5273   https://twitter.com/DHFWKA/status/126996978184...  \n",
       "16955  https://twitter.com/DHFWKA/status/126783039441...  \n",
       "9247   https://stopcorona.tn.gov.in/wp-content/upload...  \n",
       "6573   https://twitter.com/BiharHealthDept/status/127...  \n",
       "641     https://timesofindia.indiatimes.com/city/raip...  \n",
       "14199  https://twitter.com/DHFWKA/status/126707739902...  \n",
       "13659  https://stopcorona.tn.gov.in/wp-content/upload...  \n",
       "4164   https://stopcorona.tn.gov.in/wp-content/upload...  \n",
       "1769   https://stopcorona.tn.gov.in/wp-content/upload...  \n",
       "17364  https://stopcorona.tn.gov.in/wp-content/upload...  \n",
       "9486   https://stopcorona.tn.gov.in/wp-content/upload...  \n",
       "2848   https://stopcorona.tn.gov.in/wp-content/upload...  \n",
       "7637   https://stopcorona.tn.gov.in/wp-content/upload...  \n",
       "7135   https://stopcorona.tn.gov.in/wp-content/upload...  "
      ]
     },
     "execution_count": 122,
     "metadata": {},
     "output_type": "execute_result"
    }
   ],
   "source": [
    "df_final.sample(15)"
   ]
  },
  {
   "cell_type": "code",
   "execution_count": 123,
   "metadata": {},
   "outputs": [
    {
     "data": {
      "text/plain": [
       "0.39075493253006066"
      ]
     },
     "execution_count": 123,
     "metadata": {},
     "output_type": "execute_result"
    }
   ],
   "source": [
    "#Skewness is within range -1 to +1\n",
    "df_final['age'].skew()"
   ]
  },
  {
   "cell_type": "markdown",
   "metadata": {},
   "source": [
    "#### Calculating percentage using a method"
   ]
  },
  {
   "cell_type": "code",
   "execution_count": 124,
   "metadata": {},
   "outputs": [],
   "source": [
    "def calc_percent(count,total):\n",
    "    return ((count/total)*100)"
   ]
  },
  {
   "cell_type": "code",
   "execution_count": 125,
   "metadata": {},
   "outputs": [
    {
     "data": {
      "text/plain": [
       "Hospitalized      39924\n",
       "Deceased            644\n",
       "Recovered           184\n",
       "Migrated_Other        3\n",
       "Name: status, dtype: int64"
      ]
     },
     "execution_count": 125,
     "metadata": {},
     "output_type": "execute_result"
    }
   ],
   "source": [
    "df_final.status.value_counts()"
   ]
  },
  {
   "cell_type": "code",
   "execution_count": 126,
   "metadata": {},
   "outputs": [
    {
     "data": {
      "image/png": "[encoded data removed]",
      "text/plain": [
       "<Figure size 432x288 with 1 Axes>"
      ]
     },
     "metadata": {
      "needs_background": "light"
     },
     "output_type": "display_data"
    }
   ],
   "source": [
    "sns.countplot(data=df_final,x='status');\n",
    "plt.xlabel('Status');\n",
    "plt.ylabel('No. of Patients');\n",
    "plt.title('Patients Status');"
   ]
  },
  {
   "cell_type": "code",
   "execution_count": 127,
   "metadata": {
    "scrolled": true
   },
   "outputs": [
    {
     "data": {
      "image/png": "[encoded data removed]",
      "text/plain": [
       "<Figure size 432x288 with 1 Axes>"
      ]
     },
     "metadata": {
      "needs_background": "light"
     },
     "output_type": "display_data"
    }
   ],
   "source": [
    "sns.countplot(data=df_final,x='gender');\n"
   ]
  },
  {
   "cell_type": "code",
   "execution_count": 129,
   "metadata": {},
   "outputs": [
    {
     "data": {
      "text/plain": [
       "Text(0, 0.5, 'Counts')"
      ]
     },
     "execution_count": 129,
     "metadata": {},
     "output_type": "execute_result"
    },
    {
     "data": {
      "image/png": "[encoded data removed]",
      "text/plain": [
       "<Figure size 648x648 with 1 Axes>"
      ]
     },
     "metadata": {
      "needs_background": "light"
     },
     "output_type": "display_data"
    }
   ],
   "source": [
    "plt.figure(figsize=(9,9))\n",
    "df_final['age'].value_counts().sort_index().plot(kind='line');\n",
    "plt.ylim(bottom=0);\n",
    "plt.xlabel('Age')\n",
    "plt.ylabel('Counts')"
   ]
  },
  {
   "cell_type": "code",
   "execution_count": 130,
   "metadata": {},
   "outputs": [
    {
     "data": {
      "image/png": "[encoded data removed]",
      "text/plain": [
       "<Figure size 720x360 with 1 Axes>"
      ]
     },
     "metadata": {
      "needs_background": "light"
     },
     "output_type": "display_data"
    }
   ],
   "source": [
    "plt.figure(figsize=(10,5))\n",
    "sns.boxplot(x='status',y='age', data=df_final);\n",
    "plt.title('Status and Age Relationship');\n",
    "plt.xlabel('Status');\n",
    "plt.ylabel('Age');"
   ]
  },
  {
   "cell_type": "code",
   "execution_count": 131,
   "metadata": {},
   "outputs": [],
   "source": [
    "dcs = df_final[df_final['status']=='Deceased']"
   ]
  },
  {
   "cell_type": "code",
   "execution_count": 132,
   "metadata": {},
   "outputs": [
    {
     "name": "stdout",
     "output_type": "stream",
     "text": [
      "Mean Age of Deceased Persons is: 58.840062111801245 and Median is :60.0\n"
     ]
    }
   ],
   "source": [
    "mean_dcs = dcs['age'].mean()\n",
    "median_dcs=dcs['age'].median()\n",
    "print('Mean Age of Deceased Persons is: {0} and Median is :{1}'.format(mean_dcs,median_dcs))"
   ]
  },
  {
   "cell_type": "code",
   "execution_count": 133,
   "metadata": {},
   "outputs": [
    {
     "data": {
      "image/png": "[encoded data removed]",
      "text/plain": [
       "<Figure size 648x648 with 1 Axes>"
      ]
     },
     "metadata": {
      "needs_background": "light"
     },
     "output_type": "display_data"
    }
   ],
   "source": [
    "\n",
    "df_dcs = dcs[['age','status']].groupby('age').count()\n",
    "df_dcs.plot(kind='line', figsize=(9,9));\n",
    "plt.ylim(bottom=0)\n",
    "plt.title('Deceased People Age Groups');"
   ]
  },
  {
   "cell_type": "code",
   "execution_count": 134,
   "metadata": {},
   "outputs": [
    {
     "name": "stdout",
     "output_type": "stream",
     "text": [
      "Mean Age of Deceased Persons is: 37.05815217391305 and Median is :35.0\n"
     ]
    }
   ],
   "source": [
    "rec = df_final[df_final['status']=='Recovered']\n",
    "mean_rec = rec['age'].mean()\n",
    "median_rec = rec['age'].median()\n",
    "print('Mean Age of Deceased Persons is: {0} and Median is :{1}'.format(mean_rec,median_rec))"
   ]
  },
  {
   "cell_type": "code",
   "execution_count": 135,
   "metadata": {},
   "outputs": [
    {
     "data": {
      "image/png": "[encoded data removed]",
      "text/plain": [
       "<Figure size 576x576 with 1 Axes>"
      ]
     },
     "metadata": {
      "needs_background": "light"
     },
     "output_type": "display_data"
    }
   ],
   "source": [
    "plt.figure(figsize=(8,8));\n",
    "rec['age'].value_counts().sort_index().plot(kind='line');\n",
    "plt.ylim(bottom=0)\n",
    "plt.title('Recovered Patients Age Groups');"
   ]
  },
  {
   "cell_type": "code",
   "execution_count": 136,
   "metadata": {},
   "outputs": [
    {
     "name": "stdout",
     "output_type": "stream",
     "text": [
      "Mean Age of Deceased Persons is: 35.032161607053396 and Median is :33.0\n"
     ]
    }
   ],
   "source": [
    "hosp = df_final[df_final['status']=='Hospitalized']\n",
    "mean_hosp = hosp['age'].mean()\n",
    "median_hosp = hosp['age'].median()\n",
    "print('Mean Age of Deceased Persons is: {0} and Median is :{1}'.format(mean_hosp,median_hosp))"
   ]
  },
  {
   "cell_type": "code",
   "execution_count": 137,
   "metadata": {},
   "outputs": [
    {
     "data": {
      "image/png": "[encoded data removed]",
      "text/plain": [
       "<Figure size 648x648 with 1 Axes>"
      ]
     },
     "metadata": {
      "needs_background": "light"
     },
     "output_type": "display_data"
    }
   ],
   "source": [
    "plt.figure(figsize=(9,9));\n",
    "hosp['age'].value_counts().sort_index().plot(kind='line');\n",
    "plt.ylim(bottom=0);\n",
    "plt.title('Hospitalized Patients Age Group');"
   ]
  },
  {
   "cell_type": "code",
   "execution_count": 138,
   "metadata": {},
   "outputs": [],
   "source": [
    "## We can say that: 1. Deceased are with mean age 60 above \n",
    "## 2. Recovered patients age is more spread which shows that 25-55 age group people have recovered more"
   ]
  },
  {
   "cell_type": "code",
   "execution_count": 139,
   "metadata": {},
   "outputs": [
    {
     "data": {
      "text/plain": [
       "(0, 1661.05)"
      ]
     },
     "execution_count": 139,
     "metadata": {},
     "output_type": "execute_result"
    },
    {
     "data": {
      "image/png": "[encoded data removed]",
      "text/plain": [
       "<Figure size 792x792 with 1 Axes>"
      ]
     },
     "metadata": {
      "needs_background": "light"
     },
     "output_type": "display_data"
    }
   ],
   "source": [
    "plt.figure(figsize=(11,11))\n",
    "df_final['date'].value_counts().sort_values().plot(kind='line',color='r')\n",
    "plt.title('Dates vs No. of Cases Graph');\n",
    "plt.ylabel('No. of Patients');\n",
    "plt.xlabel('Dates');\n",
    "plt.ylim(bottom=0)"
   ]
  },
  {
   "cell_type": "markdown",
   "metadata": {},
   "source": [
    "### Which date most number of cases of Recovered,Deceased,Hospitalised"
   ]
  },
  {
   "cell_type": "code",
   "execution_count": 140,
   "metadata": {},
   "outputs": [
    {
     "data": {
      "text/plain": [
       "(0, 15.7)"
      ]
     },
     "execution_count": 140,
     "metadata": {},
     "output_type": "execute_result"
    },
    {
     "data": {
      "image/png": "[encoded data removed]",
      "text/plain": [
       "<Figure size 792x792 with 1 Axes>"
      ]
     },
     "metadata": {
      "needs_background": "light"
     },
     "output_type": "display_data"
    }
   ],
   "source": [
    "plt.figure(figsize=(11,11))\n",
    "rec['date'].value_counts().sort_values().plot(kind='line',color='g')\n",
    "plt.title('Dates vs No. of Recovered Cases Graph');\n",
    "plt.ylabel('No. of Recovered Patients');\n",
    "plt.xlabel('Dates');\n",
    "plt.ylim(bottom=0)"
   ]
  },
  {
   "cell_type": "code",
   "execution_count": 141,
   "metadata": {},
   "outputs": [
    {
     "data": {
      "text/plain": [
       "(0, 1645.3)"
      ]
     },
     "execution_count": 141,
     "metadata": {},
     "output_type": "execute_result"
    },
    {
     "data": {
      "image/png": "[encoded data removed]",
      "text/plain": [
       "<Figure size 792x792 with 1 Axes>"
      ]
     },
     "metadata": {
      "needs_background": "light"
     },
     "output_type": "display_data"
    }
   ],
   "source": [
    "plt.figure(figsize=(11,11))\n",
    "hosp['date'].value_counts().sort_values().plot(kind='line')\n",
    "plt.title('Dates vs No. of Hospitalised Cases Graph');\n",
    "plt.ylabel('No. of Hospitalised Patients');\n",
    "plt.xlabel('Dates');\n",
    "plt.ylim(bottom=0)"
   ]
  },
  {
   "cell_type": "code",
   "execution_count": 142,
   "metadata": {},
   "outputs": [
    {
     "data": {
      "text/plain": [
       "(0, 39.85)"
      ]
     },
     "execution_count": 142,
     "metadata": {},
     "output_type": "execute_result"
    },
    {
     "data": {
      "image/png": "[encoded data removed]",
      "text/plain": [
       "<Figure size 792x792 with 1 Axes>"
      ]
     },
     "metadata": {
      "needs_background": "light"
     },
     "output_type": "display_data"
    }
   ],
   "source": [
    "plt.figure(figsize=(11,11))\n",
    "dcs['date'].value_counts().sort_values().plot(kind='line',color='r')\n",
    "plt.title('Dates vs No. of Deceased Cases Graph');\n",
    "plt.ylabel('No. of Deceased Patients');\n",
    "plt.xlabel('Dates');\n",
    "plt.ylim(bottom=0)"
   ]
  },
  {
   "cell_type": "markdown",
   "metadata": {},
   "source": [
    "### Deceased #: 38  Date:  02/05/2020    \n",
    "### Hospital#: 1567 Date : 31/05/2020   \n",
    "### Recovered#: 15 Date: 04/03/2020    "
   ]
  },
  {
   "cell_type": "markdown",
   "metadata": {},
   "source": [
    "### Cumulative Cases Calculation"
   ]
  },
  {
   "cell_type": "code",
   "execution_count": 143,
   "metadata": {},
   "outputs": [],
   "source": [
    "df_new=pd.DataFrame()"
   ]
  },
  {
   "cell_type": "code",
   "execution_count": 144,
   "metadata": {},
   "outputs": [],
   "source": [
    "df_new['date']=list(set(df_final['date']))\n",
    "df_new=df_new.sort_values(by='date')"
   ]
  },
  {
   "cell_type": "code",
   "execution_count": 145,
   "metadata": {},
   "outputs": [
    {
     "data": {
      "text/plain": [
       "51    2020-01-30\n",
       "92    2020-03-02\n",
       "104   2020-03-03\n",
       "12    2020-03-04\n",
       "106   2020-03-05\n",
       "         ...    \n",
       "74    2020-06-20\n",
       "36    2020-06-21\n",
       "70    2020-06-22\n",
       "4     2020-06-23\n",
       "102   2020-06-24\n",
       "Name: date, Length: 115, dtype: datetime64[ns]"
      ]
     },
     "execution_count": 145,
     "metadata": {},
     "output_type": "execute_result"
    }
   ],
   "source": [
    "#df_new['dates']=list(x)\n",
    "df_new['date']"
   ]
  },
  {
   "cell_type": "code",
   "execution_count": 146,
   "metadata": {},
   "outputs": [],
   "source": [
    "dfn= df_final.sort_values(by=['date'])"
   ]
  },
  {
   "cell_type": "code",
   "execution_count": 147,
   "metadata": {},
   "outputs": [],
   "source": [
    "x_count = dfn.groupby('date')['date'].value_counts().tolist()"
   ]
  },
  {
   "cell_type": "code",
   "execution_count": 148,
   "metadata": {},
   "outputs": [],
   "source": [
    "df_new['ValueCounts']=x_count"
   ]
  },
  {
   "cell_type": "code",
   "execution_count": 149,
   "metadata": {},
   "outputs": [],
   "source": [
    "df_new['cumsum']=df_new['ValueCounts'].cumsum()"
   ]
  },
  {
   "cell_type": "code",
   "execution_count": 150,
   "metadata": {},
   "outputs": [
    {
     "data": {
      "text/html": [
       "<div>\n",
       "<style scoped>\n",
       "    .dataframe tbody tr th:only-of-type {\n",
       "        vertical-align: middle;\n",
       "    }\n",
       "\n",
       "    .dataframe tbody tr th {\n",
       "        vertical-align: top;\n",
       "    }\n",
       "\n",
       "    .dataframe thead th {\n",
       "        text-align: right;\n",
       "    }\n",
       "</style>\n",
       "<table border=\"1\" class=\"dataframe\">\n",
       "  <thead>\n",
       "    <tr style=\"text-align: right;\">\n",
       "      <th></th>\n",
       "      <th>date</th>\n",
       "      <th>ValueCounts</th>\n",
       "      <th>cumsum</th>\n",
       "    </tr>\n",
       "  </thead>\n",
       "  <tbody>\n",
       "    <tr>\n",
       "      <td>74</td>\n",
       "      <td>2020-06-20</td>\n",
       "      <td>663</td>\n",
       "      <td>38497</td>\n",
       "    </tr>\n",
       "    <tr>\n",
       "      <td>36</td>\n",
       "      <td>2020-06-21</td>\n",
       "      <td>626</td>\n",
       "      <td>39123</td>\n",
       "    </tr>\n",
       "    <tr>\n",
       "      <td>70</td>\n",
       "      <td>2020-06-22</td>\n",
       "      <td>492</td>\n",
       "      <td>39615</td>\n",
       "    </tr>\n",
       "    <tr>\n",
       "      <td>4</td>\n",
       "      <td>2020-06-23</td>\n",
       "      <td>499</td>\n",
       "      <td>40114</td>\n",
       "    </tr>\n",
       "    <tr>\n",
       "      <td>102</td>\n",
       "      <td>2020-06-24</td>\n",
       "      <td>641</td>\n",
       "      <td>40755</td>\n",
       "    </tr>\n",
       "  </tbody>\n",
       "</table>\n",
       "</div>"
      ],
      "text/plain": [
       "          date  ValueCounts  cumsum\n",
       "74  2020-06-20          663   38497\n",
       "36  2020-06-21          626   39123\n",
       "70  2020-06-22          492   39615\n",
       "4   2020-06-23          499   40114\n",
       "102 2020-06-24          641   40755"
      ]
     },
     "execution_count": 150,
     "metadata": {},
     "output_type": "execute_result"
    }
   ],
   "source": [
    "df_new.tail()"
   ]
  },
  {
   "cell_type": "markdown",
   "metadata": {},
   "source": [
    "### Visualisation"
   ]
  },
  {
   "cell_type": "code",
   "execution_count": 151,
   "metadata": {},
   "outputs": [
    {
     "data": {
      "image/png": "[encoded data removed]",
      "text/plain": [
       "<Figure size 648x648 with 1 Axes>"
      ]
     },
     "metadata": {
      "needs_background": "light"
     },
     "output_type": "display_data"
    }
   ],
   "source": [
    "plt.figure(figsize=(9,9))\n",
    "plt.plot(df_new['date'],df_new['cumsum']);\n",
    "plt.ylim(bottom=0);\n",
    "plt.title('Cumulative Cases Line Plot');"
   ]
  },
  {
   "cell_type": "code",
   "execution_count": 152,
   "metadata": {},
   "outputs": [
    {
     "data": {
      "text/plain": [
       "72     2020-03-12\n",
       "76     2020-03-12\n",
       "81     2020-03-13\n",
       "181    2020-03-19\n",
       "326    2020-03-21\n",
       "          ...    \n",
       "6857   2020-06-24\n",
       "6858   2020-06-24\n",
       "6859   2020-06-24\n",
       "6860   2020-06-24\n",
       "6861   2020-06-24\n",
       "Name: date, Length: 644, dtype: datetime64[ns]"
      ]
     },
     "execution_count": 152,
     "metadata": {},
     "output_type": "execute_result"
    }
   ],
   "source": [
    "dfn[dfn['status']=='Deceased']['date']"
   ]
  },
  {
   "cell_type": "code",
   "execution_count": 153,
   "metadata": {},
   "outputs": [],
   "source": [
    "dcs_new = dfn[dfn['status']=='Deceased'].sort_values(by=['date'])\n",
    "df_dcs=pd.DataFrame()"
   ]
  },
  {
   "cell_type": "code",
   "execution_count": 154,
   "metadata": {},
   "outputs": [],
   "source": [
    "xx=set(dcs_new['date'])\n",
    "xx = list(xx)\n",
    "xx.sort()\n",
    "df_dcs['date'] = xx"
   ]
  },
  {
   "cell_type": "code",
   "execution_count": 155,
   "metadata": {},
   "outputs": [],
   "source": [
    "dcs_list =dcs_new.groupby('date')['date'].value_counts().tolist()\n",
    "df_dcs['ValCount']=dcs_list"
   ]
  },
  {
   "cell_type": "code",
   "execution_count": 156,
   "metadata": {},
   "outputs": [
    {
     "data": {
      "text/html": [
       "<div>\n",
       "<style scoped>\n",
       "    .dataframe tbody tr th:only-of-type {\n",
       "        vertical-align: middle;\n",
       "    }\n",
       "\n",
       "    .dataframe tbody tr th {\n",
       "        vertical-align: top;\n",
       "    }\n",
       "\n",
       "    .dataframe thead th {\n",
       "        text-align: right;\n",
       "    }\n",
       "</style>\n",
       "<table border=\"1\" class=\"dataframe\">\n",
       "  <thead>\n",
       "    <tr style=\"text-align: right;\">\n",
       "      <th></th>\n",
       "      <th>date</th>\n",
       "      <th>ValCount</th>\n",
       "    </tr>\n",
       "  </thead>\n",
       "  <tbody>\n",
       "    <tr>\n",
       "      <td>0</td>\n",
       "      <td>2020-03-12</td>\n",
       "      <td>2</td>\n",
       "    </tr>\n",
       "    <tr>\n",
       "      <td>1</td>\n",
       "      <td>2020-03-13</td>\n",
       "      <td>1</td>\n",
       "    </tr>\n",
       "    <tr>\n",
       "      <td>2</td>\n",
       "      <td>2020-03-19</td>\n",
       "      <td>1</td>\n",
       "    </tr>\n",
       "    <tr>\n",
       "      <td>3</td>\n",
       "      <td>2020-03-21</td>\n",
       "      <td>3</td>\n",
       "    </tr>\n",
       "    <tr>\n",
       "      <td>4</td>\n",
       "      <td>2020-03-22</td>\n",
       "      <td>2</td>\n",
       "    </tr>\n",
       "  </tbody>\n",
       "</table>\n",
       "</div>"
      ],
      "text/plain": [
       "        date  ValCount\n",
       "0 2020-03-12         2\n",
       "1 2020-03-13         1\n",
       "2 2020-03-19         1\n",
       "3 2020-03-21         3\n",
       "4 2020-03-22         2"
      ]
     },
     "execution_count": 156,
     "metadata": {},
     "output_type": "execute_result"
    }
   ],
   "source": [
    "df_dcs.head()"
   ]
  },
  {
   "cell_type": "code",
   "execution_count": 157,
   "metadata": {},
   "outputs": [],
   "source": [
    "df_dcs['cumsum']=df_dcs['ValCount'].cumsum()"
   ]
  },
  {
   "cell_type": "code",
   "execution_count": 158,
   "metadata": {},
   "outputs": [
    {
     "data": {
      "text/html": [
       "<div>\n",
       "<style scoped>\n",
       "    .dataframe tbody tr th:only-of-type {\n",
       "        vertical-align: middle;\n",
       "    }\n",
       "\n",
       "    .dataframe tbody tr th {\n",
       "        vertical-align: top;\n",
       "    }\n",
       "\n",
       "    .dataframe thead th {\n",
       "        text-align: right;\n",
       "    }\n",
       "</style>\n",
       "<table border=\"1\" class=\"dataframe\">\n",
       "  <thead>\n",
       "    <tr style=\"text-align: right;\">\n",
       "      <th></th>\n",
       "      <th>date</th>\n",
       "      <th>ValCount</th>\n",
       "      <th>cumsum</th>\n",
       "    </tr>\n",
       "  </thead>\n",
       "  <tbody>\n",
       "    <tr>\n",
       "      <td>0</td>\n",
       "      <td>2020-03-12</td>\n",
       "      <td>2</td>\n",
       "      <td>2</td>\n",
       "    </tr>\n",
       "    <tr>\n",
       "      <td>1</td>\n",
       "      <td>2020-03-13</td>\n",
       "      <td>1</td>\n",
       "      <td>3</td>\n",
       "    </tr>\n",
       "    <tr>\n",
       "      <td>2</td>\n",
       "      <td>2020-03-19</td>\n",
       "      <td>1</td>\n",
       "      <td>4</td>\n",
       "    </tr>\n",
       "    <tr>\n",
       "      <td>3</td>\n",
       "      <td>2020-03-21</td>\n",
       "      <td>3</td>\n",
       "      <td>7</td>\n",
       "    </tr>\n",
       "    <tr>\n",
       "      <td>4</td>\n",
       "      <td>2020-03-22</td>\n",
       "      <td>2</td>\n",
       "      <td>9</td>\n",
       "    </tr>\n",
       "  </tbody>\n",
       "</table>\n",
       "</div>"
      ],
      "text/plain": [
       "        date  ValCount  cumsum\n",
       "0 2020-03-12         2       2\n",
       "1 2020-03-13         1       3\n",
       "2 2020-03-19         1       4\n",
       "3 2020-03-21         3       7\n",
       "4 2020-03-22         2       9"
      ]
     },
     "execution_count": 158,
     "metadata": {},
     "output_type": "execute_result"
    }
   ],
   "source": [
    "df_dcs.head()"
   ]
  },
  {
   "cell_type": "code",
   "execution_count": 159,
   "metadata": {},
   "outputs": [
    {
     "data": {
      "image/png": "[encoded data removed]",
      "text/plain": [
       "<Figure size 648x648 with 1 Axes>"
      ]
     },
     "metadata": {
      "needs_background": "light"
     },
     "output_type": "display_data"
    }
   ],
   "source": [
    "plt.figure(figsize=(9,9))\n",
    "plt.plot(df_dcs['date'],df_dcs['cumsum']);\n",
    "plt.ylim(bottom=0);\n",
    "plt.title('Cumulative Deaths Line Plot');"
   ]
  },
  {
   "cell_type": "code",
   "execution_count": null,
   "metadata": {},
   "outputs": [],
   "source": []
  }
 ],
 "metadata": {
  "kernelspec": {
   "display_name": "Python 3",
   "language": "python",
   "name": "python3"
  },
  "language_info": {
   "codemirror_mode": {
    "name": "ipython",
    "version": 3
   },
   "file_extension": ".py",
   "mimetype": "text/x-python",
   "name": "python",
   "nbconvert_exporter": "python",
   "pygments_lexer": "ipython3",
   "version": "3.7.4"
  }
 },
 "nbformat": 4,
 "nbformat_minor": 2
}
